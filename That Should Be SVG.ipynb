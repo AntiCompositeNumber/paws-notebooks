{
 "cells": [
  {
   "cell_type": "markdown",
   "metadata": {},
   "source": [
    "## Generate a dictionary with diagrams that should be SVG."
   ]
  },
  {
   "cell_type": "code",
   "execution_count": 1,
   "metadata": {
    "scrolled": true
   },
   "outputs": [
    {
     "name": "stderr",
     "output_type": "stream",
     "text": [
      "WARNING: API error mwoauth-invalid-authorization-invalid-user: The authorization headers in your request are for a user that does not exist here\n"
     ]
    },
    {
     "name": "stdout",
     "output_type": "stream",
     "text": [
      "Skipping [[commons:File:Article length at newbie edit.png]]\n"
     ]
    },
    {
     "name": "stderr",
     "output_type": "stream",
     "text": [
      "WARNING: Site could not be defined for global usage for [[commons:File:EnwikipediaGom.PNG]]: {'title': 'Wikipedia:Training/Meta', 'wiki': 'test2.wikipedia.org', 'url': 'https://test2.wikipedia.org/wiki/Wikipedia:Training/Meta', 'pageid': '18915', 'ns': '4'}.\n",
      "WARNING: Site could not be defined for global usage for [[commons:File:EnwikipediaGom.PNG]]: {'title': 'Wikipedia:Training/For_students/How_a_ragtag_band_created_Wikipedia_video', 'wiki': 'test2.wikipedia.org', 'url': 'https://test2.wikipedia.org/wiki/Wikipedia:Training/For_students/How_a_ragtag_band_created_Wikipedia_video', 'pageid': '19201', 'ns': '4'}.\n",
      "WARNING: Site could not be defined for global usage for [[commons:File:Haifahorizontal.jpg]]: {'title': 'Carmelit', 'wiki': 'wikimania2011.wikimedia.org', 'url': 'https://wikimania2011.wikimedia.org/wiki/Carmelit', 'pageid': '947', 'ns': '0'}.\n",
      "WARNING: Site could not be defined for global usage for [[commons:File:Haifahorizontal.jpg]]: {'title': 'Carmelit/de', 'wiki': 'wikimania2011.wikimedia.org', 'url': 'https://wikimania2011.wikimedia.org/wiki/Carmelit/de', 'pageid': '1282', 'ns': '0'}.\n",
      "WARNING: API error mwoauth-invalid-authorization-invalid-user: The authorization headers in your request are for a user that does not exist here\n"
     ]
    },
    {
     "name": "stdout",
     "output_type": "stream",
     "text": [
      "Skipping [[commons:File:Highly invested editor prop.png]]\n"
     ]
    },
    {
     "name": "stderr",
     "output_type": "stream",
     "text": [
      "WARNING: Site could not be defined for global usage for [[commons:File:Open data worlds.png]]: {'title': 'Fringe/Open_Data_Weekend', 'wiki': 'wikimania2014.wikimedia.org', 'url': 'https://wikimania2014.wikimedia.org/wiki/Fringe/Open_Data_Weekend', 'pageid': '3867', 'ns': '0'}.\n",
      "WARNING: Site could not be defined for global usage for [[commons:File:Wikipedian-in-Residence Scope Diagram Page 1.png]]: {'title': 'Meetups/Wikipedians_in_residence', 'wiki': 'wikimania2016.wikimedia.org', 'url': 'https://wikimania2016.wikimedia.org/wiki/Meetups/Wikipedians_in_residence', 'pageid': '10162', 'ns': '0'}.\n",
      "WARNING: Site could not be defined for global usage for [[commons:File:Wikipedian-in-Residence Scope Diagram Page 1.png]]: {'title': 'Meetups/Wikipedians_in_residence/en', 'wiki': 'wikimania2016.wikimedia.org', 'url': 'https://wikimania2016.wikimedia.org/wiki/Meetups/Wikipedians_in_residence/en', 'pageid': '11499', 'ns': '0'}.\n"
     ]
    },
    {
     "ename": "PageRelatedError",
     "evalue": "loadimageinfo: Query on [[commons:File:Estradiol.Cycle-es.jpg]] returned no imageinfo",
     "output_type": "error",
     "traceback": [
      "\u001b[0;31m---------------------------------------------------------------------------\u001b[0m",
      "\u001b[0;31mPageRelatedError\u001b[0m                          Traceback (most recent call last)",
      "\u001b[0;32m<ipython-input-1-edc61c3a5746>\u001b[0m in \u001b[0;36m<module>\u001b[0;34m\u001b[0m\n\u001b[1;32m     10\u001b[0m \u001b[0;34m\u001b[0m\u001b[0m\n\u001b[1;32m     11\u001b[0m \u001b[0;32mfor\u001b[0m \u001b[0mpage\u001b[0m \u001b[0;32min\u001b[0m \u001b[0mgen\u001b[0m\u001b[0;34m:\u001b[0m\u001b[0;34m\u001b[0m\u001b[0;34m\u001b[0m\u001b[0m\n\u001b[0;32m---> 12\u001b[0;31m     \u001b[0mmimetype\u001b[0m \u001b[0;34m=\u001b[0m \u001b[0mpywikibot\u001b[0m\u001b[0;34m.\u001b[0m\u001b[0mFilePage\u001b[0m\u001b[0;34m(\u001b[0m\u001b[0mpage\u001b[0m\u001b[0;34m)\u001b[0m\u001b[0;34m.\u001b[0m\u001b[0mlatest_file_info\u001b[0m\u001b[0;34m.\u001b[0m\u001b[0mmime\u001b[0m\u001b[0;34m\u001b[0m\u001b[0;34m\u001b[0m\u001b[0m\n\u001b[0m\u001b[1;32m     13\u001b[0m     \u001b[0;32mif\u001b[0m \u001b[0mmimetype\u001b[0m \u001b[0;34m!=\u001b[0m \u001b[0;34m'image/svg+xml'\u001b[0m\u001b[0;34m:\u001b[0m\u001b[0;34m\u001b[0m\u001b[0;34m\u001b[0m\u001b[0m\n\u001b[1;32m     14\u001b[0m         \u001b[0;32mtry\u001b[0m\u001b[0;34m:\u001b[0m\u001b[0;34m\u001b[0m\u001b[0;34m\u001b[0m\u001b[0m\n",
      "\u001b[0;32m/srv/paws/pwb/pywikibot/page.py\u001b[0m in \u001b[0;36mlatest_file_info\u001b[0;34m(self)\u001b[0m\n\u001b[1;32m   2470\u001b[0m         \"\"\"\n\u001b[1;32m   2471\u001b[0m         \u001b[0;32mif\u001b[0m \u001b[0;32mnot\u001b[0m \u001b[0mlen\u001b[0m\u001b[0;34m(\u001b[0m\u001b[0mself\u001b[0m\u001b[0;34m.\u001b[0m\u001b[0m_file_revisions\u001b[0m\u001b[0;34m)\u001b[0m\u001b[0;34m:\u001b[0m\u001b[0;34m\u001b[0m\u001b[0;34m\u001b[0m\u001b[0m\n\u001b[0;32m-> 2472\u001b[0;31m             \u001b[0mself\u001b[0m\u001b[0;34m.\u001b[0m\u001b[0msite\u001b[0m\u001b[0;34m.\u001b[0m\u001b[0mloadimageinfo\u001b[0m\u001b[0;34m(\u001b[0m\u001b[0mself\u001b[0m\u001b[0;34m,\u001b[0m \u001b[0mhistory\u001b[0m\u001b[0;34m=\u001b[0m\u001b[0;32mTrue\u001b[0m\u001b[0;34m)\u001b[0m\u001b[0;34m\u001b[0m\u001b[0;34m\u001b[0m\u001b[0m\n\u001b[0m\u001b[1;32m   2473\u001b[0m         \u001b[0mlatest_ts\u001b[0m \u001b[0;34m=\u001b[0m \u001b[0mmax\u001b[0m\u001b[0;34m(\u001b[0m\u001b[0mself\u001b[0m\u001b[0;34m.\u001b[0m\u001b[0m_file_revisions\u001b[0m\u001b[0;34m)\u001b[0m\u001b[0;34m\u001b[0m\u001b[0;34m\u001b[0m\u001b[0m\n\u001b[1;32m   2474\u001b[0m         \u001b[0;32mreturn\u001b[0m \u001b[0mself\u001b[0m\u001b[0;34m.\u001b[0m\u001b[0m_file_revisions\u001b[0m\u001b[0;34m[\u001b[0m\u001b[0mlatest_ts\u001b[0m\u001b[0;34m]\u001b[0m\u001b[0;34m\u001b[0m\u001b[0;34m\u001b[0m\u001b[0m\n",
      "\u001b[0;32m/srv/paws/pwb/pywikibot/site.py\u001b[0m in \u001b[0;36mloadimageinfo\u001b[0;34m(self, page, history, url_width, url_height, url_param)\u001b[0m\n\u001b[1;32m   3120\u001b[0m                 raise PageRelatedError(\n\u001b[1;32m   3121\u001b[0m                     \u001b[0mpage\u001b[0m\u001b[0;34m,\u001b[0m\u001b[0;34m\u001b[0m\u001b[0;34m\u001b[0m\u001b[0m\n\u001b[0;32m-> 3122\u001b[0;31m                     'loadimageinfo: Query on %s returned no imageinfo')\n\u001b[0m\u001b[1;32m   3123\u001b[0m \u001b[0;34m\u001b[0m\u001b[0m\n\u001b[1;32m   3124\u001b[0m         return (pageitem['imageinfo']\n",
      "\u001b[0;31mPageRelatedError\u001b[0m: loadimageinfo: Query on [[commons:File:Estradiol.Cycle-es.jpg]] returned no imageinfo"
     ]
    }
   ],
   "source": [
    "version = 'ShouldBeSVG 0.2.1'\n",
    "\n",
    "import pywikibot\n",
    "from pywikibot import pagegenerators\n",
    "\n",
    "def getUsage(cat):\n",
    "\n",
    "    gen = pagegenerators.CategorizedPageGenerator(cat,recurse=1,namespaces=6)\n",
    "\n",
    "\n",
    "    # Generate a dictionary with diagrams that should be SVG.\n",
    "    usageCounts = {}\n",
    "\n",
    "    for page in gen:\n",
    "        mimetype = pywikibot.FilePage(page).latest_file_info.mime\n",
    "        if mimetype != 'image/svg+xml':\n",
    "            try:\n",
    "                usage = pywikibot.FilePage.globalusage(page)\n",
    "                l = len(list(usage))\n",
    "                usageCounts[page] = l\n",
    "            except (pywikibot.NoUsername, pywikibot.PageRelatedError):\n",
    "                print('Skipping', page)\n",
    "\n",
    "\n",
    "    # Sort from greatest to least\n",
    "    usageCountsSorted = sorted(usageCounts, key=usageCounts.__getitem__, reverse=True)\n",
    "\n",
    "    # Count the global usage for the top 200 files\n",
    "    i = 0\n",
    "    j = 200\n",
    "    gallery = 'Total number of scanned files: {}\\n'.format(len(list(usageCounts)))\n",
    "    gallery += '<gallery showfilename=yes >\\n'\n",
    "    for page in usageCountsSorted:\n",
    "        if i < j:\n",
    "            i += 1\n",
    "            url = page.full_url()\n",
    "            title = page.title()\n",
    "            count = usageCounts[page]\n",
    "            gallery += '{title}|{i}. Used {count} times.\\n'.format(title=title, i=i, count=count)\n",
    "    gallery += '</gallery>\\n[[Category:Images that should use vector graphics]]\\n[[Category:Diagram images that should use vector graphics]]'\n",
    "    return gallery\n",
    "\n",
    "def savePage(target, text):\n",
    "    site = pywikibot.Site('commons', 'commons')\n",
    "    target.text = text\n",
    "    target.save(summary='Updating gallery (Bot) ({version})'.format(version=version), botflag=False) \n",
    "\n",
    "site = pywikibot.Site('commons', 'commons')\n",
    "cat = pywikibot.Category(site, 'Category:Diagram images that should use vector graphics')\n",
    "target = pywikibot.Page(site, 'Top 200 diagram images that should use vector graphics')\n",
    "\n",
    "galleryWikitext = getUsage(cat)\n",
    "#savePage(target, galleryWikitext)\n",
    "print(galleryWikitext)\n"
   ]
  },
  {
   "cell_type": "code",
   "execution_count": 5,
   "metadata": {},
   "outputs": [
    {
     "ename": "PageRelatedError",
     "evalue": "loadimageinfo: Query on [[commons:File:Estradiol.Cycle-es.jpg]] returned no imageinfo",
     "output_type": "error",
     "traceback": [
      "\u001b[0;31m---------------------------------------------------------------------------\u001b[0m",
      "\u001b[0;31mPageRelatedError\u001b[0m                          Traceback (most recent call last)",
      "\u001b[0;32m<ipython-input-5-d8210023abbb>\u001b[0m in \u001b[0;36m<module>\u001b[0;34m\u001b[0m\n\u001b[1;32m     53\u001b[0m \u001b[0mtarget\u001b[0m \u001b[0;34m=\u001b[0m \u001b[0mpywikibot\u001b[0m\u001b[0;34m.\u001b[0m\u001b[0mPage\u001b[0m\u001b[0;34m(\u001b[0m\u001b[0msite\u001b[0m\u001b[0;34m,\u001b[0m \u001b[0;34m'Top 200 diagram images that should use vector graphics'\u001b[0m\u001b[0;34m)\u001b[0m\u001b[0;34m\u001b[0m\u001b[0;34m\u001b[0m\u001b[0m\n\u001b[1;32m     54\u001b[0m \u001b[0;34m\u001b[0m\u001b[0m\n\u001b[0;32m---> 55\u001b[0;31m \u001b[0mgalleryWikitext\u001b[0m \u001b[0;34m=\u001b[0m \u001b[0mgetUsage\u001b[0m\u001b[0;34m(\u001b[0m\u001b[0mcat\u001b[0m\u001b[0;34m)\u001b[0m\u001b[0;34m\u001b[0m\u001b[0;34m\u001b[0m\u001b[0m\n\u001b[0m\u001b[1;32m     56\u001b[0m \u001b[0;31m#savePage(target, galleryWikitext)\u001b[0m\u001b[0;34m\u001b[0m\u001b[0;34m\u001b[0m\u001b[0;34m\u001b[0m\u001b[0m\n\u001b[1;32m     57\u001b[0m \u001b[0mprint\u001b[0m\u001b[0;34m(\u001b[0m\u001b[0mgalleryWikitext\u001b[0m\u001b[0;34m)\u001b[0m\u001b[0;34m\u001b[0m\u001b[0;34m\u001b[0m\u001b[0m\n",
      "\u001b[0;32m<ipython-input-5-d8210023abbb>\u001b[0m in \u001b[0;36mgetUsage\u001b[0;34m(cat)\u001b[0m\n\u001b[1;32m     13\u001b[0m \u001b[0;34m\u001b[0m\u001b[0m\n\u001b[1;32m     14\u001b[0m     \u001b[0mpage\u001b[0m \u001b[0;34m=\u001b[0m \u001b[0mpywikibot\u001b[0m\u001b[0;34m.\u001b[0m\u001b[0mPage\u001b[0m\u001b[0;34m(\u001b[0m\u001b[0msite\u001b[0m\u001b[0;34m,\u001b[0m \u001b[0;34m'File:Estradiol.Cycle-es.jpg'\u001b[0m\u001b[0;34m)\u001b[0m\u001b[0;34m\u001b[0m\u001b[0;34m\u001b[0m\u001b[0m\n\u001b[0;32m---> 15\u001b[0;31m     \u001b[0mmimetype\u001b[0m \u001b[0;34m=\u001b[0m \u001b[0mpywikibot\u001b[0m\u001b[0;34m.\u001b[0m\u001b[0mFilePage\u001b[0m\u001b[0;34m(\u001b[0m\u001b[0mpage\u001b[0m\u001b[0;34m)\u001b[0m\u001b[0;34m.\u001b[0m\u001b[0mlatest_file_info\u001b[0m\u001b[0;34m.\u001b[0m\u001b[0mmime\u001b[0m\u001b[0;34m\u001b[0m\u001b[0;34m\u001b[0m\u001b[0m\n\u001b[0m\u001b[1;32m     16\u001b[0m     \u001b[0;32mif\u001b[0m \u001b[0mmimetype\u001b[0m \u001b[0;34m!=\u001b[0m \u001b[0;34m'image/svg+xml'\u001b[0m \u001b[0;32mand\u001b[0m \u001b[0mpage\u001b[0m \u001b[0;34m!=\u001b[0m \u001b[0mpywikibot\u001b[0m\u001b[0;34m.\u001b[0m\u001b[0mPage\u001b[0m\u001b[0;34m(\u001b[0m\u001b[0msite\u001b[0m\u001b[0;34m,\u001b[0m \u001b[0;34m'File:Estradiol.Cycle-es.jpg'\u001b[0m\u001b[0;34m)\u001b[0m\u001b[0;34m:\u001b[0m\u001b[0;34m\u001b[0m\u001b[0;34m\u001b[0m\u001b[0m\n\u001b[1;32m     17\u001b[0m         \u001b[0;32mtry\u001b[0m\u001b[0;34m:\u001b[0m\u001b[0;34m\u001b[0m\u001b[0;34m\u001b[0m\u001b[0m\n",
      "\u001b[0;32m/srv/paws/pwb/pywikibot/page.py\u001b[0m in \u001b[0;36mlatest_file_info\u001b[0;34m(self)\u001b[0m\n\u001b[1;32m   2470\u001b[0m         \"\"\"\n\u001b[1;32m   2471\u001b[0m         \u001b[0;32mif\u001b[0m \u001b[0;32mnot\u001b[0m \u001b[0mlen\u001b[0m\u001b[0;34m(\u001b[0m\u001b[0mself\u001b[0m\u001b[0;34m.\u001b[0m\u001b[0m_file_revisions\u001b[0m\u001b[0;34m)\u001b[0m\u001b[0;34m:\u001b[0m\u001b[0;34m\u001b[0m\u001b[0;34m\u001b[0m\u001b[0m\n\u001b[0;32m-> 2472\u001b[0;31m             \u001b[0mself\u001b[0m\u001b[0;34m.\u001b[0m\u001b[0msite\u001b[0m\u001b[0;34m.\u001b[0m\u001b[0mloadimageinfo\u001b[0m\u001b[0;34m(\u001b[0m\u001b[0mself\u001b[0m\u001b[0;34m,\u001b[0m \u001b[0mhistory\u001b[0m\u001b[0;34m=\u001b[0m\u001b[0;32mTrue\u001b[0m\u001b[0;34m)\u001b[0m\u001b[0;34m\u001b[0m\u001b[0;34m\u001b[0m\u001b[0m\n\u001b[0m\u001b[1;32m   2473\u001b[0m         \u001b[0mlatest_ts\u001b[0m \u001b[0;34m=\u001b[0m \u001b[0mmax\u001b[0m\u001b[0;34m(\u001b[0m\u001b[0mself\u001b[0m\u001b[0;34m.\u001b[0m\u001b[0m_file_revisions\u001b[0m\u001b[0;34m)\u001b[0m\u001b[0;34m\u001b[0m\u001b[0;34m\u001b[0m\u001b[0m\n\u001b[1;32m   2474\u001b[0m         \u001b[0;32mreturn\u001b[0m \u001b[0mself\u001b[0m\u001b[0;34m.\u001b[0m\u001b[0m_file_revisions\u001b[0m\u001b[0;34m[\u001b[0m\u001b[0mlatest_ts\u001b[0m\u001b[0;34m]\u001b[0m\u001b[0;34m\u001b[0m\u001b[0;34m\u001b[0m\u001b[0m\n",
      "\u001b[0;32m/srv/paws/pwb/pywikibot/site.py\u001b[0m in \u001b[0;36mloadimageinfo\u001b[0;34m(self, page, history, url_width, url_height, url_param)\u001b[0m\n\u001b[1;32m   3120\u001b[0m                 raise PageRelatedError(\n\u001b[1;32m   3121\u001b[0m                     \u001b[0mpage\u001b[0m\u001b[0;34m,\u001b[0m\u001b[0;34m\u001b[0m\u001b[0;34m\u001b[0m\u001b[0m\n\u001b[0;32m-> 3122\u001b[0;31m                     'loadimageinfo: Query on %s returned no imageinfo')\n\u001b[0m\u001b[1;32m   3123\u001b[0m \u001b[0;34m\u001b[0m\u001b[0m\n\u001b[1;32m   3124\u001b[0m         return (pageitem['imageinfo']\n",
      "\u001b[0;31mPageRelatedError\u001b[0m: loadimageinfo: Query on [[commons:File:Estradiol.Cycle-es.jpg]] returned no imageinfo"
     ]
    }
   ],
   "source": [
    "version = 'ShouldBeSVG 0.2.1'\n",
    "\n",
    "import pywikibot\n",
    "from pywikibot import pagegenerators\n",
    "\n",
    "def getUsage(cat):\n",
    "\n",
    "    gen = pagegenerators.CategorizedPageGenerator(cat,recurse=1,namespaces=6)\n",
    "\n",
    "\n",
    "    # Generate a dictionary with diagrams that should be SVG.\n",
    "    usageCounts = {}\n",
    "\n",
    "    page = pywikibot.Page(site, 'File:Estradiol.Cycle-es.jpg')\n",
    "    mimetype = pywikibot.FilePage(page).latest_file_info.mime\n",
    "    if mimetype != 'image/svg+xml' and page != pywikibot.Page(site, 'File:Estradiol.Cycle-es.jpg'):\n",
    "        try:\n",
    "            usage = pywikibot.FilePage.globalusage(page)\n",
    "            l = len(list(usage))\n",
    "            usageCounts[page] = l\n",
    "        except pywikibot.NoUsername:\n",
    "            print('Skipping', page)\n",
    "        except PageRelatedError:\n",
    "            print('Skipping', page)\n",
    "            \n",
    "\n",
    "\n",
    "    # Sort from greatest to least\n",
    "    usageCountsSorted = sorted(usageCounts, key=usageCounts.__getitem__, reverse=True)\n",
    "\n",
    "    # Count the global usage for the top 200 files\n",
    "    i = 0\n",
    "    j = 200\n",
    "    gallery = 'Total number of scanned files: {}\\n'.format(len(list(usageCounts)))\n",
    "    gallery += '<gallery showfilename=yes >\\n'\n",
    "    for page in usageCountsSorted:\n",
    "        if i < j:\n",
    "            i += 1\n",
    "            url = page.full_url()\n",
    "            title = page.title()\n",
    "            count = usageCounts[page]\n",
    "            gallery += '{title}|{i}. Used {count} times.\\n'.format(title=title, i=i, count=count)\n",
    "    gallery += '</gallery>\\n[[Category:Images that should use vector graphics]]\\n[[Category:Diagram images that should use vector graphics]]'\n",
    "    return gallery\n",
    "\n",
    "def savePage(target, text):\n",
    "    site = pywikibot.Site('commons', 'commons')\n",
    "    target.text = text\n",
    "    target.save(summary='Updating gallery (Bot) ({version})'.format(version=version), botflag=False) \n",
    "\n",
    "site = pywikibot.Site('commons', 'commons')\n",
    "cat = pywikibot.Category(site, 'Category:Diagram images that should use vector graphics')\n",
    "target = pywikibot.Page(site, 'Top 200 diagram images that should use vector graphics')\n",
    "\n",
    "galleryWikitext = getUsage(cat)\n",
    "#savePage(target, galleryWikitext)\n",
    "print(galleryWikitext)\n"
   ]
  },
  {
   "cell_type": "markdown",
   "metadata": {},
   "source": [
    "   Copyright 2019 AntiCompositeNumber\n",
    "\n",
    "   Licensed under the Apache License, Version 2.0 (the \"License\");\n",
    "   you may not use this file except in compliance with the License.\n",
    "   You may obtain a copy of the License at\n",
    "\n",
    "     http://www.apache.org/licenses/LICENSE-2.0\n",
    "\n",
    "   Unless required by applicable law or agreed to in writing, software\n",
    "   distributed under the License is distributed on an \"AS IS\" BASIS,\n",
    "   WITHOUT WARRANTIES OR CONDITIONS OF ANY KIND, either express or implied.\n",
    "   See the License for the specific language governing permissions and\n",
    "   limitations under the License.\n"
   ]
  }
 ],
 "metadata": {
  "kernelspec": {
   "display_name": "Python 3",
   "language": "python",
   "name": "python3"
  },
  "language_info": {
   "codemirror_mode": {
    "name": "ipython",
    "version": 3
   },
   "file_extension": ".py",
   "mimetype": "text/x-python",
   "name": "python",
   "nbconvert_exporter": "python",
   "pygments_lexer": "ipython3",
   "version": "3.6.7"
  }
 },
 "nbformat": 4,
 "nbformat_minor": 2
}

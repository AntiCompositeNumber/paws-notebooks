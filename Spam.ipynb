{
 "cells": [
  {
   "cell_type": "code",
   "execution_count": 20,
   "metadata": {},
   "outputs": [
    {
     "ename": "KeyError",
     "evalue": "'abusefilter/hit is not a valid logtype'",
     "output_type": "error",
     "traceback": [
      "\u001b[0;31m---------------------------------------------------------------------------\u001b[0m",
      "\u001b[0;31mKeyError\u001b[0m                                  Traceback (most recent call last)",
      "\u001b[0;32m<ipython-input-20-cf3515119c38>\u001b[0m in \u001b[0;36m<module>\u001b[0;34m\u001b[0m\n\u001b[1;32m     19\u001b[0m                                  end='2019-08-10T00:00:00Z')\n\u001b[1;32m     20\u001b[0m     list_hits = site.logevents(logtype='abusefilter/hit',\n\u001b[0;32m---> 21\u001b[0;31m                                  end='2019-08-10T00:00:00Z')\n\u001b[0m\u001b[1;32m     22\u001b[0m     \u001b[0;32mfor\u001b[0m \u001b[0mentry\u001b[0m \u001b[0;32min\u001b[0m \u001b[0mlist_blocks\u001b[0m\u001b[0;34m:\u001b[0m\u001b[0;34m\u001b[0m\u001b[0;34m\u001b[0m\u001b[0m\n\u001b[1;32m     23\u001b[0m         \u001b[0mblocks\u001b[0m \u001b[0;34m+=\u001b[0m \u001b[0;36m1\u001b[0m\u001b[0;34m\u001b[0m\u001b[0;34m\u001b[0m\u001b[0m\n",
      "\u001b[0;32m/srv/paws/pwb/pywikibot/tools/__init__.py\u001b[0m in \u001b[0;36mwrapper\u001b[0;34m(*__args, **__kw)\u001b[0m\n\u001b[1;32m   1736\u001b[0m                              cls, depth)\n\u001b[1;32m   1737\u001b[0m                     \u001b[0;32mdel\u001b[0m \u001b[0m__kw\u001b[0m\u001b[0;34m[\u001b[0m\u001b[0mold_arg\u001b[0m\u001b[0;34m]\u001b[0m\u001b[0;34m\u001b[0m\u001b[0;34m\u001b[0m\u001b[0m\n\u001b[0;32m-> 1738\u001b[0;31m             \u001b[0;32mreturn\u001b[0m \u001b[0mobj\u001b[0m\u001b[0;34m(\u001b[0m\u001b[0;34m*\u001b[0m\u001b[0m__args\u001b[0m\u001b[0;34m,\u001b[0m \u001b[0;34m**\u001b[0m\u001b[0m__kw\u001b[0m\u001b[0;34m)\u001b[0m\u001b[0;34m\u001b[0m\u001b[0;34m\u001b[0m\u001b[0m\n\u001b[0m\u001b[1;32m   1739\u001b[0m \u001b[0;34m\u001b[0m\u001b[0m\n\u001b[1;32m   1740\u001b[0m         \u001b[0;32mif\u001b[0m \u001b[0;32mnot\u001b[0m \u001b[0m__debug__\u001b[0m\u001b[0;34m:\u001b[0m\u001b[0;34m\u001b[0m\u001b[0;34m\u001b[0m\u001b[0m\n",
      "\u001b[0;32m/srv/paws/pwb/pywikibot/site.py\u001b[0m in \u001b[0;36mlogevents\u001b[0;34m(self, logtype, user, page, namespace, start, end, reverse, tag, total)\u001b[0m\n\u001b[1;32m   4654\u001b[0m \u001b[0;34m\u001b[0m\u001b[0m\n\u001b[1;32m   4655\u001b[0m         legen = self._generator(api.LogEntryListGenerator, type_arg=logtype,\n\u001b[0;32m-> 4656\u001b[0;31m                                 total=total)\n\u001b[0m\u001b[1;32m   4657\u001b[0m         \u001b[0;32mif\u001b[0m \u001b[0mlogtype\u001b[0m \u001b[0;32mis\u001b[0m \u001b[0;32mnot\u001b[0m \u001b[0;32mNone\u001b[0m\u001b[0;34m:\u001b[0m\u001b[0;34m\u001b[0m\u001b[0;34m\u001b[0m\u001b[0m\n\u001b[1;32m   4658\u001b[0m             \u001b[0mlegen\u001b[0m\u001b[0;34m.\u001b[0m\u001b[0mrequest\u001b[0m\u001b[0;34m[\u001b[0m\u001b[0;34m'letype'\u001b[0m\u001b[0;34m]\u001b[0m \u001b[0;34m=\u001b[0m \u001b[0mlogtype\u001b[0m\u001b[0;34m\u001b[0m\u001b[0;34m\u001b[0m\u001b[0m\n",
      "\u001b[0;32m/srv/paws/pwb/pywikibot/tools/__init__.py\u001b[0m in \u001b[0;36mwrapper\u001b[0;34m(*__args, **__kw)\u001b[0m\n\u001b[1;32m   1736\u001b[0m                              cls, depth)\n\u001b[1;32m   1737\u001b[0m                     \u001b[0;32mdel\u001b[0m \u001b[0m__kw\u001b[0m\u001b[0;34m[\u001b[0m\u001b[0mold_arg\u001b[0m\u001b[0;34m]\u001b[0m\u001b[0;34m\u001b[0m\u001b[0;34m\u001b[0m\u001b[0m\n\u001b[0;32m-> 1738\u001b[0;31m             \u001b[0;32mreturn\u001b[0m \u001b[0mobj\u001b[0m\u001b[0;34m(\u001b[0m\u001b[0;34m*\u001b[0m\u001b[0m__args\u001b[0m\u001b[0;34m,\u001b[0m \u001b[0;34m**\u001b[0m\u001b[0m__kw\u001b[0m\u001b[0;34m)\u001b[0m\u001b[0;34m\u001b[0m\u001b[0;34m\u001b[0m\u001b[0m\n\u001b[0m\u001b[1;32m   1739\u001b[0m \u001b[0;34m\u001b[0m\u001b[0m\n\u001b[1;32m   1740\u001b[0m         \u001b[0;32mif\u001b[0m \u001b[0;32mnot\u001b[0m \u001b[0m__debug__\u001b[0m\u001b[0;34m:\u001b[0m\u001b[0;34m\u001b[0m\u001b[0;34m\u001b[0m\u001b[0m\n",
      "\u001b[0;32m/srv/paws/pwb/pywikibot/site.py\u001b[0m in \u001b[0;36m_generator\u001b[0;34m(self, gen_class, type_arg, namespaces, total, **args)\u001b[0m\n\u001b[1;32m   1943\u001b[0m             \u001b[0mreq_args\u001b[0m\u001b[0;34m[\u001b[0m\u001b[0;34m'g_content'\u001b[0m\u001b[0;34m]\u001b[0m \u001b[0;34m=\u001b[0m \u001b[0margs\u001b[0m\u001b[0;34m.\u001b[0m\u001b[0mpop\u001b[0m\u001b[0;34m(\u001b[0m\u001b[0;34m'g_content'\u001b[0m\u001b[0;34m)\u001b[0m\u001b[0;34m\u001b[0m\u001b[0;34m\u001b[0m\u001b[0m\n\u001b[1;32m   1944\u001b[0m         \u001b[0;32mif\u001b[0m \u001b[0mtype_arg\u001b[0m \u001b[0;32mis\u001b[0m \u001b[0;32mnot\u001b[0m \u001b[0;32mNone\u001b[0m\u001b[0;34m:\u001b[0m\u001b[0;34m\u001b[0m\u001b[0;34m\u001b[0m\u001b[0m\n\u001b[0;32m-> 1945\u001b[0;31m             \u001b[0mgen\u001b[0m \u001b[0;34m=\u001b[0m \u001b[0mgen_class\u001b[0m\u001b[0;34m(\u001b[0m\u001b[0mtype_arg\u001b[0m\u001b[0;34m,\u001b[0m \u001b[0;34m**\u001b[0m\u001b[0mreq_args\u001b[0m\u001b[0;34m)\u001b[0m\u001b[0;34m\u001b[0m\u001b[0;34m\u001b[0m\u001b[0m\n\u001b[0m\u001b[1;32m   1946\u001b[0m         \u001b[0;32melse\u001b[0m\u001b[0;34m:\u001b[0m\u001b[0;34m\u001b[0m\u001b[0;34m\u001b[0m\u001b[0m\n\u001b[1;32m   1947\u001b[0m             \u001b[0mgen\u001b[0m \u001b[0;34m=\u001b[0m \u001b[0mgen_class\u001b[0m\u001b[0;34m(\u001b[0m\u001b[0;34m**\u001b[0m\u001b[0mreq_args\u001b[0m\u001b[0;34m)\u001b[0m\u001b[0;34m\u001b[0m\u001b[0;34m\u001b[0m\u001b[0m\n",
      "\u001b[0;32m/srv/paws/pwb/pywikibot/data/api.py\u001b[0m in \u001b[0;36m__init__\u001b[0;34m(self, logtype, **kwargs)\u001b[0m\n\u001b[1;32m   3063\u001b[0m \u001b[0;34m\u001b[0m\u001b[0m\n\u001b[1;32m   3064\u001b[0m         \u001b[0;32mfrom\u001b[0m \u001b[0mpywikibot\u001b[0m \u001b[0;32mimport\u001b[0m \u001b[0mlogentries\u001b[0m\u001b[0;34m\u001b[0m\u001b[0;34m\u001b[0m\u001b[0m\n\u001b[0;32m-> 3065\u001b[0;31m         \u001b[0mself\u001b[0m\u001b[0;34m.\u001b[0m\u001b[0mentryFactory\u001b[0m \u001b[0;34m=\u001b[0m \u001b[0mlogentries\u001b[0m\u001b[0;34m.\u001b[0m\u001b[0mLogEntryFactory\u001b[0m\u001b[0;34m(\u001b[0m\u001b[0mself\u001b[0m\u001b[0;34m.\u001b[0m\u001b[0msite\u001b[0m\u001b[0;34m,\u001b[0m \u001b[0mlogtype\u001b[0m\u001b[0;34m)\u001b[0m\u001b[0;34m\u001b[0m\u001b[0;34m\u001b[0m\u001b[0m\n\u001b[0m\u001b[1;32m   3066\u001b[0m \u001b[0;34m\u001b[0m\u001b[0m\n\u001b[1;32m   3067\u001b[0m     \u001b[0;32mdef\u001b[0m \u001b[0mresult\u001b[0m\u001b[0;34m(\u001b[0m\u001b[0mself\u001b[0m\u001b[0;34m,\u001b[0m \u001b[0mpagedata\u001b[0m\u001b[0;34m)\u001b[0m\u001b[0;34m:\u001b[0m\u001b[0;34m\u001b[0m\u001b[0;34m\u001b[0m\u001b[0m\n",
      "\u001b[0;32m/srv/paws/pwb/pywikibot/logentries.py\u001b[0m in \u001b[0;36m__init__\u001b[0;34m(self, site, logtype)\u001b[0m\n\u001b[1;32m    427\u001b[0m             \u001b[0;31m# Bind a Class object to self._creator:\u001b[0m\u001b[0;34m\u001b[0m\u001b[0;34m\u001b[0m\u001b[0;34m\u001b[0m\u001b[0m\n\u001b[1;32m    428\u001b[0m             \u001b[0;31m# When called, it will initialize a new object of that class\u001b[0m\u001b[0;34m\u001b[0m\u001b[0;34m\u001b[0m\u001b[0;34m\u001b[0m\u001b[0m\n\u001b[0;32m--> 429\u001b[0;31m             \u001b[0mlogclass\u001b[0m \u001b[0;34m=\u001b[0m \u001b[0mself\u001b[0m\u001b[0;34m.\u001b[0m\u001b[0mget_valid_entry_class\u001b[0m\u001b[0;34m(\u001b[0m\u001b[0mlogtype\u001b[0m\u001b[0;34m)\u001b[0m\u001b[0;34m\u001b[0m\u001b[0;34m\u001b[0m\u001b[0m\n\u001b[0m\u001b[1;32m    430\u001b[0m             \u001b[0mself\u001b[0m\u001b[0;34m.\u001b[0m\u001b[0m_creator\u001b[0m \u001b[0;34m=\u001b[0m \u001b[0;32mlambda\u001b[0m \u001b[0mdata\u001b[0m\u001b[0;34m:\u001b[0m \u001b[0mlogclass\u001b[0m\u001b[0;34m(\u001b[0m\u001b[0mdata\u001b[0m\u001b[0;34m,\u001b[0m \u001b[0mself\u001b[0m\u001b[0;34m.\u001b[0m\u001b[0m_site\u001b[0m\u001b[0;34m)\u001b[0m\u001b[0;34m\u001b[0m\u001b[0;34m\u001b[0m\u001b[0m\n\u001b[1;32m    431\u001b[0m \u001b[0;34m\u001b[0m\u001b[0m\n",
      "\u001b[0;32m/srv/paws/pwb/pywikibot/logentries.py\u001b[0m in \u001b[0;36mget_valid_entry_class\u001b[0;34m(self, logtype)\u001b[0m\n\u001b[1;32m    457\u001b[0m         \"\"\"\n\u001b[1;32m    458\u001b[0m         \u001b[0;32mif\u001b[0m \u001b[0mlogtype\u001b[0m \u001b[0;32mnot\u001b[0m \u001b[0;32min\u001b[0m \u001b[0mself\u001b[0m\u001b[0;34m.\u001b[0m\u001b[0m_site\u001b[0m\u001b[0;34m.\u001b[0m\u001b[0mlogtypes\u001b[0m\u001b[0;34m:\u001b[0m\u001b[0;34m\u001b[0m\u001b[0;34m\u001b[0m\u001b[0m\n\u001b[0;32m--> 459\u001b[0;31m             \u001b[0;32mraise\u001b[0m \u001b[0mKeyError\u001b[0m\u001b[0;34m(\u001b[0m\u001b[0;34m'{} is not a valid logtype'\u001b[0m\u001b[0;34m.\u001b[0m\u001b[0mformat\u001b[0m\u001b[0;34m(\u001b[0m\u001b[0mlogtype\u001b[0m\u001b[0;34m)\u001b[0m\u001b[0;34m)\u001b[0m\u001b[0;34m\u001b[0m\u001b[0;34m\u001b[0m\u001b[0m\n\u001b[0m\u001b[1;32m    460\u001b[0m         \u001b[0;32mreturn\u001b[0m \u001b[0mLogEntryFactory\u001b[0m\u001b[0;34m.\u001b[0m\u001b[0mget_entry_class\u001b[0m\u001b[0;34m(\u001b[0m\u001b[0mlogtype\u001b[0m\u001b[0;34m)\u001b[0m\u001b[0;34m\u001b[0m\u001b[0;34m\u001b[0m\u001b[0m\n\u001b[1;32m    461\u001b[0m \u001b[0;34m\u001b[0m\u001b[0m\n",
      "\u001b[0;31mKeyError\u001b[0m: 'abusefilter/hit is not a valid logtype'"
     ]
    }
   ],
   "source": [
    "import pywikibot\n",
    "\n",
    "wikis = [('war', 'wikipedia'), ('hu', 'wikisource'),\n",
    "         ('tum', 'wikipedia'), ('cy', 'wiktionary')]\n",
    "\n",
    "total_blocks = 0\n",
    "total_deletes = 0\n",
    "total_hits = 0\n",
    "\n",
    "for wiki in wikis:\n",
    "    blocks = 0\n",
    "    deletes = 0\n",
    "    \n",
    "    site = pywikibot.Site(wiki[0], wiki[1])\n",
    "    list_blocks = site.logevents(logtype='block', user='Praxidicae',\n",
    "                                 end='2019-08-10T00:00:00Z')\n",
    "    list_deletes = site.logevents(logtype='delete', user='Praxidicae',\n",
    "                                 end='2019-08-10T00:00:00Z')\n",
    "    \n",
    "    for entry in list_blocks:\n",
    "        blocks += 1\n",
    "        total_blocks +=1\n",
    "    print(site.dbName(), blocks, 'blocks')\n",
    "    \n",
    "    for entry in list_deletes:\n",
    "        deletes += 1\n",
    "        total_deletes +=1\n",
    "    print(site.dbName(), deletes, 'deletes')\n",
    "    \n",
    "print(total_blocks, 'blocks')\n",
    "print(total_deletes, 'deletes')\n",
    "\n"
   ]
  },
  {
   "cell_type": "code",
   "execution_count": null,
   "metadata": {},
   "outputs": [],
   "source": [
    "\n"
   ]
  }
 ],
 "metadata": {
  "kernelspec": {
   "display_name": "Python 3",
   "language": "python",
   "name": "python3"
  },
  "language_info": {
   "codemirror_mode": {
    "name": "ipython",
    "version": 3
   },
   "file_extension": ".py",
   "mimetype": "text/x-python",
   "name": "python",
   "nbconvert_exporter": "python",
   "pygments_lexer": "ipython3",
   "version": "3.6.7"
  }
 },
 "nbformat": 4,
 "nbformat_minor": 2
}

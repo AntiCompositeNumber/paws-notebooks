{
 "cells": [
  {
   "cell_type": "code",
   "execution_count": 119,
   "metadata": {
    "scrolled": false
   },
   "outputs": [
    {
     "data": {
      "text/markdown": [
       "#### dewikinews"
      ]
     },
     "metadata": {},
     "output_type": "display_data"
    },
    {
     "data": {
      "text/markdown": [
       " - 17:10, 09 January 2019 Itu unblocked   (sorry...)\n",
       " - 17:08, 09 January 2019 Itu blocked with an expiration time of indefinite (nocreate, noemail, nousertalk) ()\n"
      ]
     },
     "metadata": {},
     "output_type": "display_data"
    },
    {
     "data": {
      "text/markdown": [
       "#### dewikisource"
      ]
     },
     "metadata": {},
     "output_type": "display_data"
    },
    {
     "data": {
      "text/markdown": [
       " - 16:40, 21 August 2019 A. Wagner unblocked   (sorry, global Sysop)\n",
       " - 16:30, 21 August 2019 A. Wagner reblocked with an expiration time of indefinite (nocreate) (Einstellen unsinniger Seiten)\n",
       " - 14:15, 21 August 2019 Koffeeinist blocked with an expiration time of 3 days, 0:00:00 (nocreate) (Einstellen unsinniger Seiten)\n"
      ]
     },
     "metadata": {},
     "output_type": "display_data"
    },
    {
     "data": {
      "text/markdown": [
       "#### enwiki"
      ]
     },
     "metadata": {},
     "output_type": "display_data"
    },
    {
     "data": {
      "text/markdown": [
       " - 11:44, 09 February 2017 JamesBWatson unblocked   (Wrong account blocked by mistake.)\n",
       " - 11:43, 09 February 2017 JamesBWatson blocked with an expiration time of indefinite (nocreate) (Abusing [[WP:Sock puppetry|multiple accounts]]: [[User:OfficialPankajPatidar]])\n"
      ]
     },
     "metadata": {},
     "output_type": "display_data"
    },
    {
     "data": {
      "text/markdown": [
       "#### frwikisource"
      ]
     },
     "metadata": {},
     "output_type": "display_data"
    },
    {
     "data": {
      "text/markdown": [
       " - 15:22, 09 October 2018 Zyephyrus unblocked   (Erreur de ma part.)\n",
       " - 13:00, 09 October 2018 Zyephyrus blocked with an expiration time of indefinite (nocreate) (spam)\n"
      ]
     },
     "metadata": {},
     "output_type": "display_data"
    },
    {
     "data": {
      "text/markdown": [
       "#### huwikiquote"
      ]
     },
     "metadata": {},
     "output_type": "display_data"
    },
    {
     "data": {
      "text/markdown": [
       " - 08:17, 30 April 2019 OsvátA unblocked   (Tévedés)\n",
       " - 05:48, 30 April 2019 OsvátA blocked with an expiration time of 14 days, 0:00:00 (nocreate) (Vandál)\n"
      ]
     },
     "metadata": {},
     "output_type": "display_data"
    },
    {
     "data": {
      "text/markdown": [
       "#### idwikisource"
      ]
     },
     "metadata": {},
     "output_type": "display_data"
    },
    {
     "data": {
      "text/markdown": [
       " - 12:37, 16 November 2018 علاء unblocked   (?)\n",
       " - 22:06, 14 November 2018 Billinghurst blocked with an expiration time of indefinite (nocreate) ()\n"
      ]
     },
     "metadata": {},
     "output_type": "display_data"
    },
    {
     "data": {
      "text/markdown": [
       "#### nlwiktionary"
      ]
     },
     "metadata": {},
     "output_type": "display_data"
    },
    {
     "data": {
      "text/markdown": [
       " - 19:38, 07 August 2019 Cadfaell unblocked   (mistake)\n",
       " - 15:10, 07 August 2019 Cadfaell blocked with an expiration time of indefinite (nocreate, noemail, nousertalk) (Spam)\n"
      ]
     },
     "metadata": {},
     "output_type": "display_data"
    },
    {
     "data": {
      "text/markdown": [
       "#### tawiktionary"
      ]
     },
     "metadata": {},
     "output_type": "display_data"
    },
    {
     "data": {
      "text/markdown": [
       " - 18:42, 03 July 2018 Balajijagadesh unblocked   (MISTAKE)\n",
       " - 16:04, 02 July 2018 Balajijagadesh blocked with an expiration time of indefinite (nocreate, noemail) ()\n"
      ]
     },
     "metadata": {},
     "output_type": "display_data"
    },
    {
     "data": {
      "text/markdown": [
       "#### testwiki"
      ]
     },
     "metadata": {},
     "output_type": "display_data"
    },
    {
     "data": {
      "text/markdown": [
       " - 20:38, 20 August 2019 Tks4Fish blocked with an expiration time of 0:00:01 (nocreate, noemail, nousertalk) (Test)\n"
      ]
     },
     "metadata": {},
     "output_type": "display_data"
    }
   ],
   "source": [
    "import mwapi\n",
    "import pywikibot\n",
    "from IPython import display, utils\n",
    "import os\n",
    "\n",
    "target_user = 'Praxidicae'\n",
    "\n",
    "def get_accounts(target_user):\n",
    "    sys_info = platform.python_version()\n",
    "\n",
    "    user_agent = (f'Global_block_history.ipynb on PAWS '\n",
    "                  f'(User:{os.environ[\"USER\"]}) mwapi/{mwapi.__version__} '\n",
    "                  f' python/{sys_info}')\n",
    "\n",
    "    session = mwapi.Session('https://meta.wikimedia.org', user_agent)\n",
    "    request = {'action': 'query', 'format': 'json',\n",
    "               'meta': 'globaluserinfo', 'guiuser': target_user,\n",
    "               'guiprop': 'merged'}\n",
    "    api_result = session.get(request)\n",
    "\n",
    "    result_details = api_result['query']['globaluserinfo']['merged']\n",
    "\n",
    "    accounts = []\n",
    "\n",
    "    for entry in result_details:\n",
    "        accounts.append(entry['url'])\n",
    "\n",
    "    return accounts\n",
    "\n",
    "def list_blocks(target_user, accounts):\n",
    "    logtime = '%H:%M, %d %B %Y'\n",
    "    count_blocks = 0\n",
    "    for account in accounts:\n",
    "        num_entries = 0\n",
    "        \n",
    "        try:\n",
    "            site = pywikibot.Site(url=f'{account}/wiki/')\n",
    "        except (pywikibot.SiteDefinitionError, pywikibot.NoUsername):\n",
    "            continue\n",
    "            \n",
    "        blocklog = site.logevents(logtype='block', page=f'User:{target_user}')\n",
    "        \n",
    "        block_string = ''\n",
    "        for block in blocklog:\n",
    "            num_entries += 1\n",
    "            \n",
    "            if num_entries == 1:\n",
    "                count_blocks += 1\n",
    "                display.display_markdown(f'#### {site.dbName()}', raw=True)\n",
    "            \n",
    "            if block.duration():\n",
    "                expiry = f'with an expiration time of {block.duration()}'\n",
    "            elif block.action() != 'unblock':\n",
    "                expiry = 'with an expiration time of indefinite'\n",
    "            else:\n",
    "                expiry = ''\n",
    "\n",
    "            if block.flags():\n",
    "                flags = '('\n",
    "                for flag in block.flags():\n",
    "                    flags += flag\n",
    "                    flags += ', '\n",
    "                flags = flags[0:(len(flags) - 2)]\n",
    "                flags += ')'\n",
    "            else:\n",
    "                flags = ''\n",
    "\n",
    "            block_string += (\n",
    "                f' - {block.timestamp().strftime(logtime)} {block.user()} '\n",
    "                f'{block.action()}ed {expiry} {flags} '\n",
    "                f'({block.comment()})\\n')\n",
    "        \n",
    "        if block_string:\n",
    "            display.display_markdown(block_string, raw=True)\n",
    "        \n",
    "\n",
    "accounts = get_accounts(target_user)\n",
    "\n",
    "list_blocks(target_user, accounts)"
   ]
  },
  {
   "cell_type": "markdown",
   "metadata": {},
   "source": [
    "### Licensing\n",
    "Copyright 2019 AntiCompositeNumber\n",
    "\n",
    "Licensed under the Apache License, Version 2.0 (the \"License\"); you may not use this file except in compliance with the License. You may obtain a copy of the License at\n",
    "\n",
    "  http://www.apache.org/licenses/LICENSE-2.0\n",
    "\n",
    "Unless required by applicable law or agreed to in writing, software distributed under the License is distributed on an \"AS IS\" BASIS, WITHOUT WARRANTIES OR CONDITIONS OF ANY KIND, either express or implied. See the License for the specific language governing permissions and limitations under the License.\n",
    "\n",
    "### To fork:\n",
    "1. Open the [raw page](?format=raw) and save it to your computer\n",
    "2. Go to your [PAWS control panel](https://paws.wmflabs.org/paws/hub) and sign in using OAUTH\n",
    "3. Click Upload and upload the file from step 1\n",
    "4. To run, open the notebook and click Cell > Run All"
   ]
  }
 ],
 "metadata": {
  "kernelspec": {
   "display_name": "Python 3",
   "language": "python",
   "name": "python3"
  },
  "language_info": {
   "codemirror_mode": {
    "name": "ipython",
    "version": 3
   },
   "file_extension": ".py",
   "mimetype": "text/x-python",
   "name": "python",
   "nbconvert_exporter": "python",
   "pygments_lexer": "ipython3",
   "version": "3.6.7"
  }
 },
 "nbformat": 4,
 "nbformat_minor": 2
}

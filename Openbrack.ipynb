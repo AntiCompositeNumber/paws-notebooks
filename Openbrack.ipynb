{
 "cells": [
  {
   "cell_type": "code",
   "execution_count": 2,
   "metadata": {},
   "outputs": [],
   "source": [
    "import pywikibot\n",
    "from pywikibot import pagegenerators\n",
    "import re\n",
    "from IPython import display\n",
    "\n",
    "site = pywikibot.Site('en', 'wikipedia')\n",
    "def iter_creations():\n",
    "    start = '2019-08-01T00:00:00Z'\n",
    "    namespace = 2\n",
    "    \n",
    "    gen = site.logevents(\n",
    "        logtype='create', start=start, namespace=namespace,\n",
    "        end='now', reverse=True)\n",
    "    return gen\n",
    "\n",
    "def check_comment(entry):\n",
    "    try:\n",
    "        comment = entry.comment()\n",
    "    except pywikibot.exceptions.HiddenKeyError:\n",
    "        return False\n",
    "    else:\n",
    "        search = r\"\\[\\[WP:AES\\|←]]Created page with '\\[http\"\n",
    "        regex = re.compile(search)\n",
    "\n",
    "        match = re.match(regex, comment) is not None\n",
    "        return match\n",
    "\n",
    "def check_newbie(entry):\n",
    "    try:\n",
    "        username = entry.user()\n",
    "    except pywikibot.exceptions.HiddenKeyError:\n",
    "        return False\n",
    "    else:\n",
    "        user = pywikibot.User(site, username)\n",
    "        groups = user.groups()\n",
    "\n",
    "        is_newbie = not 'autoconfirmed' in groups\n",
    "        return is_newbie\n",
    "\n",
    "def format_output(entry):\n",
    "    date = entry.timestamp()\n",
    "    username = entry.user()\n",
    "    user = pywikibot.User(site, username)\n",
    "    user_title = username\n",
    "    user_link = user.full_url()\n",
    "    contribs = pywikibot.Page(site, f'Special:Contribs/{username}').full_url()\n",
    "    page = entry.page()\n",
    "    page_title = page.title()\n",
    "    comment = entry.comment()[12:]\n",
    "    log = pywikibot.Page(site, f'Special:Log/create/{username})').full_url()\n",
    "    \n",
    "    if not page.exists():\n",
    "        page_title = '~~' + page_title + '~~'\n",
    "    if not user.isBlocked():\n",
    "        user_title = '~~' + user_title + '~~'\n",
    "    \n",
    "    markdown = f'* {date} [{user_title}]({user_link}) ([contribs]({contribs})) created page [{page_title}]({page.full_url()})) ({comment}) ([log]({log}))'\n",
    "    return markdown\n",
    "    \n",
    "def main():\n",
    "    for entry in iter_creations():          \n",
    "        if check_newbie(entry) and check_comment(entry):\n",
    "            display.display_markdown(format_output(entry), raw=True)\n",
    "    print('Done')"
   ]
  },
  {
   "cell_type": "markdown",
   "metadata": {},
   "source": [
    "## Page creations that begin with an external link, where the page was created in the last month by a currently non-autoconfirmed user\n",
    "Deleted pages and blocked users are struck.\n",
    "Revdeled usernames or comments are skipped"
   ]
  },
  {
   "cell_type": "code",
   "execution_count": null,
   "metadata": {
    "scrolled": false
   },
   "outputs": [
    {
     "data": {
      "text/markdown": [
       "* 2019-08-01T08:07:37Z [Tamaras47647](https://en.wikipedia.org/wiki/User%3ATamaras47647) ([contribs](https://en.wikipedia.org/wiki/Special%3AContribs%2FTamaras47647)) created page [~~User:Tamaras47647~~](https://en.wikipedia.org/wiki/User%3ATamaras47647)) (Created page with '[https://www.liveone24.com/index.html 토토사이트]') ([log](https://en.wikipedia.org/wiki/Special%3ALog%2Fcreate%2FTamaras47647%29))"
      ]
     },
     "metadata": {},
     "output_type": "display_data"
    },
    {
     "data": {
      "text/markdown": [
       "* 2019-08-01T09:42:53Z [~~Martin425x~~](https://en.wikipedia.org/wiki/User%3AMartin425x) ([contribs](https://en.wikipedia.org/wiki/Special%3AContribs%2FMartin425x)) created page [~~User:Martin425x~~](https://en.wikipedia.org/wiki/User%3AMartin425x)) (Created page with '[https://garagerepairstar.com/ visit website] Salt Lake City Garage Door Repair in UT is the leading garage door company that answers to all your problems such a...') ([log](https://en.wikipedia.org/wiki/Special%3ALog%2Fcreate%2FMartin425x%29))"
      ]
     },
     "metadata": {},
     "output_type": "display_data"
    },
    {
     "data": {
      "text/markdown": [
       "* 2019-08-01T12:27:08Z [Gales47648](https://en.wikipedia.org/wiki/User%3AGales47648) ([contribs](https://en.wikipedia.org/wiki/Special%3AContribs%2FGales47648)) created page [~~User:Gales47648~~](https://en.wikipedia.org/wiki/User%3AGales47648)) (Created page with '[https://www.liveone24.com/riview.html 안전놀이터]') ([log](https://en.wikipedia.org/wiki/Special%3ALog%2Fcreate%2FGales47648%29))"
      ]
     },
     "metadata": {},
     "output_type": "display_data"
    },
    {
     "data": {
      "text/markdown": [
       "* 2019-08-01T12:54:15Z [Nathan015x](https://en.wikipedia.org/wiki/User%3ANathan015x) ([contribs](https://en.wikipedia.org/wiki/Special%3AContribs%2FNathan015x)) created page [~~User:Nathan015x~~](https://en.wikipedia.org/wiki/User%3ANathan015x)) (Created page with '[https://www.bzfuture.com/antivirus-security buy security software] BZfuture is bargain zone selling hottest and latest licensed software products ,has a wide of...') ([log](https://en.wikipedia.org/wiki/Special%3ALog%2Fcreate%2FNathan015x%29))"
      ]
     },
     "metadata": {},
     "output_type": "display_data"
    },
    {
     "data": {
      "text/markdown": [
       "* 2019-08-02T00:56:30Z [~~Marys47649~~](https://en.wikipedia.org/wiki/User%3AMarys47649) ([contribs](https://en.wikipedia.org/wiki/Special%3AContribs%2FMarys47649)) created page [~~User:Marys47649~~](https://en.wikipedia.org/wiki/User%3AMarys47649)) (Created page with '[https://www.liveone24.com/categories.html 해외토토사이트]') ([log](https://en.wikipedia.org/wiki/Special%3ALog%2Fcreate%2FMarys47649%29))"
      ]
     },
     "metadata": {},
     "output_type": "display_data"
    },
    {
     "data": {
      "text/markdown": [
       "* 2019-08-02T09:39:05Z [Jennifers47651](https://en.wikipedia.org/wiki/User%3AJennifers47651) ([contribs](https://en.wikipedia.org/wiki/Special%3AContribs%2FJennifers47651)) created page [~~User:Jennifers47651~~](https://en.wikipedia.org/wiki/User%3AJennifers47651)) (Created page with '[https://www.betwinners.info/ 토토사이트]') ([log](https://en.wikipedia.org/wiki/Special%3ALog%2Fcreate%2FJennifers47651%29))"
      ]
     },
     "metadata": {},
     "output_type": "display_data"
    },
    {
     "data": {
      "text/markdown": [
       "* 2019-08-02T15:27:36Z [FIF Production](https://en.wikipedia.org/wiki/User%3AFIF_Production) ([contribs](https://en.wikipedia.org/wiki/Special%3AContribs%2FFIF_Production)) created page [~~User:FIF Production~~](https://en.wikipedia.org/wiki/User%3AFIF_Production)) (Created page with '[http://www.fifproduction.com '''FIF PRODUCTION''''] is a young and enthusiastic, fun filled Mumbai based film production house with global outlook towards HIN...') ([log](https://en.wikipedia.org/wiki/Special%3ALog%2Fcreate%2FFIF_Production%29))"
      ]
     },
     "metadata": {},
     "output_type": "display_data"
    },
    {
     "data": {
      "text/markdown": [
       "* 2019-08-02T17:30:27Z [~~Colortalk.ca~~](https://en.wikipedia.org/wiki/User%3AColortalk.ca) ([contribs](https://en.wikipedia.org/wiki/Special%3AContribs%2FColortalk.ca)) created page [~~User:Colortalk.ca~~](https://en.wikipedia.org/wiki/User%3AColortalk.ca)) (Created page with '[http://www.artpal.com/khosrowmokori www.artpal.com/khosrowmokori]') ([log](https://en.wikipedia.org/wiki/Special%3ALog%2Fcreate%2FColortalk.ca%29))"
      ]
     },
     "metadata": {},
     "output_type": "display_data"
    },
    {
     "data": {
      "text/markdown": [
       "* 2019-08-02T17:50:17Z [~~Haisamabdo~~](https://en.wikipedia.org/wiki/User%3AHaisamabdo) ([contribs](https://en.wikipedia.org/wiki/Special%3AContribs%2FHaisamabdo)) created page [~~User:Haisamabdo~~](https://en.wikipedia.org/wiki/User%3AHaisamabdo)) (Created page with '[https://www.Pinteeshirt.com Pinteeshirt] is a marketplace that lets users to buy and sell Unique designs and Printing products on demand. T-Shirts, Mug, Canvas,...') ([log](https://en.wikipedia.org/wiki/Special%3ALog%2Fcreate%2FHaisamabdo%29))"
      ]
     },
     "metadata": {},
     "output_type": "display_data"
    },
    {
     "data": {
      "text/markdown": [
       "* 2019-08-03T05:12:24Z [Camayvn](https://en.wikipedia.org/wiki/User%3ACamayvn) ([contribs](https://en.wikipedia.org/wiki/Special%3AContribs%2FCamayvn)) created page [~~User:Camayvn~~](https://en.wikipedia.org/wiki/User%3ACamayvn)) (Created page with '[https://camay.vn/dich-vu-phun-moi-tham-my/ Phun môi thẩm mỹ] được xem là lựa chọn hàng đầu để sở hữu đôi môi hoàn hảo. Nó đang...') ([log](https://en.wikipedia.org/wiki/Special%3ALog%2Fcreate%2FCamayvn%29))"
      ]
     },
     "metadata": {},
     "output_type": "display_data"
    },
    {
     "data": {
      "text/markdown": [
       "* 2019-08-03T10:57:12Z [JayElijah](https://en.wikipedia.org/wiki/User%3AJayElijah) ([contribs](https://en.wikipedia.org/wiki/Special%3AContribs%2FJayElijah)) created page [~~User:JayElijah~~](https://en.wikipedia.org/wiki/User%3AJayElijah)) (Created page with '[https://www.zike.net/best-fat-tire-bikes/ zike]') ([log](https://en.wikipedia.org/wiki/Special%3ALog%2Fcreate%2FJayElijah%29))"
      ]
     },
     "metadata": {},
     "output_type": "display_data"
    },
    {
     "data": {
      "text/markdown": [
       "* 2019-08-03T12:43:52Z [~~Bogle7850x~~](https://en.wikipedia.org/wiki/User%3ABogle7850x) ([contribs](https://en.wikipedia.org/wiki/Special%3AContribs%2FBogle7850x)) created page [~~User:Bogle7850x~~](https://en.wikipedia.org/wiki/User%3ABogle7850x)) (Created page with '[https://scienceshowforkids.com/ science party] Crazy Science Show is a new and surprising format of a kids party! Science for kids - easy science experiments fo...') ([log](https://en.wikipedia.org/wiki/Special%3ALog%2Fcreate%2FBogle7850x%29))"
      ]
     },
     "metadata": {},
     "output_type": "display_data"
    },
    {
     "data": {
      "text/markdown": [
       "* 2019-08-03T15:16:47Z [~~French051x~~](https://en.wikipedia.org/wiki/User%3AFrench051x) ([contribs](https://en.wikipedia.org/wiki/Special%3AContribs%2FFrench051x)) created page [~~User:French051x~~](https://en.wikipedia.org/wiki/User%3AFrench051x)) (Created page with '[https://www.sportsxnews.com/ Football] Sport News every day from worldwide. Last matches, last news football, basketball, hockey, tennis, volleyball and etc') ([log](https://en.wikipedia.org/wiki/Special%3ALog%2Fcreate%2FFrench051x%29))"
      ]
     },
     "metadata": {},
     "output_type": "display_data"
    },
    {
     "data": {
      "text/markdown": [
       "* 2019-08-03T20:41:06Z [Naukriresults](https://en.wikipedia.org/wiki/User%3ANaukriresults) ([contribs](https://en.wikipedia.org/wiki/Special%3AContribs%2FNaukriresults)) created page [~~User:Naukriresults~~](https://en.wikipedia.org/wiki/User%3ANaukriresults)) (Created page with '[http://naukriresults.com sarkari results] is most poultry website for providing result for all over indea. we provide all type  of 10 rsults,12 results,sarkari...') ([log](https://en.wikipedia.org/wiki/Special%3ALog%2Fcreate%2FNaukriresults%29))"
      ]
     },
     "metadata": {},
     "output_type": "display_data"
    },
    {
     "data": {
      "text/markdown": [
       "* 2019-08-04T16:33:24Z [~~Sfe74379~~](https://en.wikipedia.org/wiki/User%3ASfe74379) ([contribs](https://en.wikipedia.org/wiki/Special%3AContribs%2FSfe74379)) created page [~~User:Sfe74379~~](https://en.wikipedia.org/wiki/User%3ASfe74379)) (Created page with '[https://www.naiadirrigation.ca/irrigation-winterization/#terms Irrigation Winterization Legal Disclaimer]') ([log](https://en.wikipedia.org/wiki/Special%3ALog%2Fcreate%2FSfe74379%29))"
      ]
     },
     "metadata": {},
     "output_type": "display_data"
    },
    {
     "data": {
      "text/markdown": [
       "* 2019-08-04T17:19:08Z [Fubakih](https://en.wikipedia.org/wiki/User%3AFubakih) ([contribs](https://en.wikipedia.org/wiki/Special%3AContribs%2FFubakih)) created page [~~User:Fubakih~~](https://en.wikipedia.org/wiki/User%3AFubakih)) (Created page with '[https://www.naiadirrigation.ca/irrigation-winterization/#terms Irrigation Winterization Legal Disclaimer]') ([log](https://en.wikipedia.org/wiki/Special%3ALog%2Fcreate%2FFubakih%29))"
      ]
     },
     "metadata": {},
     "output_type": "display_data"
    },
    {
     "data": {
      "text/markdown": [
       "* 2019-08-04T17:27:30Z [Pijarikahe](https://en.wikipedia.org/wiki/User%3APijarikahe) ([contribs](https://en.wikipedia.org/wiki/Special%3AContribs%2FPijarikahe)) created page [~~User:Pijarikahe~~](https://en.wikipedia.org/wiki/User%3APijarikahe)) (Created page with '[https://www.naiadirrigation.ca/irrigation-winterization/#terms Irrigation Winterization Legal Disclaimer]') ([log](https://en.wikipedia.org/wiki/Special%3ALog%2Fcreate%2FPijarikahe%29))"
      ]
     },
     "metadata": {},
     "output_type": "display_data"
    },
    {
     "data": {
      "text/markdown": [
       "* 2019-08-04T17:34:45Z [Libad012](https://en.wikipedia.org/wiki/User%3ALibad012) ([contribs](https://en.wikipedia.org/wiki/Special%3AContribs%2FLibad012)) created page [~~User:Libad012~~](https://en.wikipedia.org/wiki/User%3ALibad012)) (Created page with '[https://www.naiadirrigation.ca/irrigation-winterization/#terms Irrigation Winterization Legal Disclaimer]') ([log](https://en.wikipedia.org/wiki/Special%3ALog%2Fcreate%2FLibad012%29))"
      ]
     },
     "metadata": {},
     "output_type": "display_data"
    },
    {
     "data": {
      "text/markdown": [
       "* 2019-08-04T17:43:38Z [Cijenu](https://en.wikipedia.org/wiki/User%3ACijenu) ([contribs](https://en.wikipedia.org/wiki/Special%3AContribs%2FCijenu)) created page [~~User:Cijenu~~](https://en.wikipedia.org/wiki/User%3ACijenu)) (Created page with '[https://www.naiadirrigation.ca/irrigation-winterization/#terms Irrigation Winterization Legal Disclaimer]') ([log](https://en.wikipedia.org/wiki/Special%3ALog%2Fcreate%2FCijenu%29))"
      ]
     },
     "metadata": {},
     "output_type": "display_data"
    },
    {
     "data": {
      "text/markdown": [
       "* 2019-08-05T07:11:17Z [EliteVanguard](https://en.wikipedia.org/wiki/User%3AEliteVanguard) ([contribs](https://en.wikipedia.org/wiki/Special%3AContribs%2FEliteVanguard)) created page [~~User:EliteVanguard/sandbox~~](https://en.wikipedia.org/wiki/User%3AEliteVanguard%2Fsandbox)) (Created page with '[http://www.djmelzi.co.za www.djmelzi.co.za]{{Tumelo Mphai sandbox}} <!-- EDIT BELOW THIS LINE --> '''Tumelo Samuel Mphai who goes more popularly by the alias ''...') ([log](https://en.wikipedia.org/wiki/Special%3ALog%2Fcreate%2FEliteVanguard%29))"
      ]
     },
     "metadata": {},
     "output_type": "display_data"
    },
    {
     "data": {
      "text/markdown": [
       "* 2019-08-05T09:29:29Z [~~Shailendra4282~~](https://en.wikipedia.org/wiki/User%3AShailendra4282) ([contribs](https://en.wikipedia.org/wiki/Special%3AContribs%2FShailendra4282)) created page [User:Shailendra4282](https://en.wikipedia.org/wiki/User%3AShailendra4282)) (Created page with '[https://www.computerhope.com/history/ shailendra]') ([log](https://en.wikipedia.org/wiki/Special%3ALog%2Fcreate%2FShailendra4282%29))"
      ]
     },
     "metadata": {},
     "output_type": "display_data"
    },
    {
     "data": {
      "text/markdown": [
       "* 2019-08-05T20:07:32Z [~~Pedro Martin Terra~~](https://en.wikipedia.org/wiki/User%3APedro_Martin_Terra) ([contribs](https://en.wikipedia.org/wiki/Special%3AContribs%2FPedro_Martin_Terra)) created page [User:Pedro Martin Terra](https://en.wikipedia.org/wiki/User%3APedro_Martin_Terra)) (Created page with '[https://www.terragroup.com/about/staff/2/pedro-martin/]') ([log](https://en.wikipedia.org/wiki/Special%3ALog%2Fcreate%2FPedro_Martin_Terra%29))"
      ]
     },
     "metadata": {},
     "output_type": "display_data"
    },
    {
     "data": {
      "text/markdown": [
       "* 2019-08-06T06:41:53Z [Indoservice](https://en.wikipedia.org/wiki/User%3AIndoservice) ([contribs](https://en.wikipedia.org/wiki/Special%3AContribs%2FIndoservice)) created page [~~User:Indoservice~~](https://en.wikipedia.org/wiki/User%3AIndoservice)) (Created page with '[http://indoservice.co.id Indoservice] was established in 2015 and helps clients who want to expand or establish a business in Indonesia. We have been providing...') ([log](https://en.wikipedia.org/wiki/Special%3ALog%2Fcreate%2FIndoservice%29))"
      ]
     },
     "metadata": {},
     "output_type": "display_data"
    },
    {
     "data": {
      "text/markdown": [
       "* 2019-08-06T19:36:54Z [Bkgraphy](https://en.wikipedia.org/wiki/User%3ABkgraphy) ([contribs](https://en.wikipedia.org/wiki/Special%3AContribs%2FBkgraphy)) created page [~~User:Bkgraphy~~](https://en.wikipedia.org/wiki/User%3ABkgraphy)) (Created page with '[https://www.bkgraphy.co.in Bk graphy] is odisha's best web design Software and digital marketing company | We felt immense pleasure to introduce you about our c...') ([log](https://en.wikipedia.org/wiki/Special%3ALog%2Fcreate%2FBkgraphy%29))"
      ]
     },
     "metadata": {},
     "output_type": "display_data"
    },
    {
     "data": {
      "text/markdown": [
       "* 2019-08-07T14:53:28Z [~~Akshit.0223~~](https://en.wikipedia.org/wiki/User%3AAkshit.0223) ([contribs](https://en.wikipedia.org/wiki/Special%3AContribs%2FAkshit.0223)) created page [~~User:Akshit.0223~~](https://en.wikipedia.org/wiki/User%3AAkshit.0223)) (Created page with '[https://www.parklandindia.com Parkland Exports]  Moradabad   Opp. Police Chowki, Lakri Fazalpur  Moradabad - 244001  0591-2970055') ([log](https://en.wikipedia.org/wiki/Special%3ALog%2Fcreate%2FAkshit.0223%29))"
      ]
     },
     "metadata": {},
     "output_type": "display_data"
    },
    {
     "data": {
      "text/markdown": [
       "* 2019-08-08T05:33:46Z [~~Foret2130x~~](https://en.wikipedia.org/wiki/User%3AForet2130x) ([contribs](https://en.wikipedia.org/wiki/Special%3AContribs%2FForet2130x)) created page [~~User:Foret2130x~~](https://en.wikipedia.org/wiki/User%3AForet2130x)) (Created page with '[http://www.ishuads.in ishuads.in] Free Classifieds Ads to Boost Your Business, Are you looking for lucrative ways to boost your business? When you wish to enhan...') ([log](https://en.wikipedia.org/wiki/Special%3ALog%2Fcreate%2FForet2130x%29))"
      ]
     },
     "metadata": {},
     "output_type": "display_data"
    },
    {
     "data": {
      "text/markdown": [
       "* 2019-08-08T06:20:13Z [Sattamatka44](https://en.wikipedia.org/wiki/User%3ASattamatka44) ([contribs](https://en.wikipedia.org/wiki/Special%3AContribs%2FSattamatka44)) created page [~~User:Sattamatka44~~](https://en.wikipedia.org/wiki/User%3ASattamatka44)) (Created page with '[https://sattamatka44.jimdofree.com Sattamatka44] is platform where you will get some awesome plans like good refund policies and [https://sattamatka44.jimdofree...') ([log](https://en.wikipedia.org/wiki/Special%3ALog%2Fcreate%2FSattamatka44%29))"
      ]
     },
     "metadata": {},
     "output_type": "display_data"
    },
    {
     "data": {
      "text/markdown": [
       "* 2019-08-08T07:28:02Z [~~TheLifeLPs~~](https://en.wikipedia.org/wiki/User%3ATheLifeLPs) ([contribs](https://en.wikipedia.org/wiki/Special%3AContribs%2FTheLifeLPs)) created page [User:TheLifeLPs/sandbox](https://en.wikipedia.org/wiki/User%3ATheLifeLPs%2Fsandbox)) (Created page with '[http://www.youtube.com/c/thelifelps]') ([log](https://en.wikipedia.org/wiki/Special%3ALog%2Fcreate%2FTheLifeLPs%29))"
      ]
     },
     "metadata": {},
     "output_type": "display_data"
    },
    {
     "data": {
      "text/markdown": [
       "* 2019-08-08T10:10:26Z [~~Mattjohnsonreal~~](https://en.wikipedia.org/wiki/User%3AMattjohnsonreal) ([contribs](https://en.wikipedia.org/wiki/Special%3AContribs%2FMattjohnsonreal)) created page [~~User:Mattjohnsonreal/sandbox~~](https://en.wikipedia.org/wiki/User%3AMattjohnsonreal%2Fsandbox)) (Created page with '[https://www.expertmarketresearch.com Expert Market Research] represents one of the leading business intelligence and market research fires providing custom and...') ([log](https://en.wikipedia.org/wiki/Special%3ALog%2Fcreate%2FMattjohnsonreal%29))"
      ]
     },
     "metadata": {},
     "output_type": "display_data"
    },
    {
     "data": {
      "text/markdown": [
       "* 2019-08-08T18:21:25Z [Littlehailstone](https://en.wikipedia.org/wiki/User%3ALittlehailstone) ([contribs](https://en.wikipedia.org/wiki/Special%3AContribs%2FLittlehailstone)) created page [~~User:Littlehailstone~~](https://en.wikipedia.org/wiki/User%3ALittlehailstone)) (Created page with '[http://www.littlehailstone.com Little Hailstone] is an Association, 'In Quest of Concern Better'. They are waiting to rescue you by giving their small opinion w...') ([log](https://en.wikipedia.org/wiki/Special%3ALog%2Fcreate%2FLittlehailstone%29))"
      ]
     },
     "metadata": {},
     "output_type": "display_data"
    },
    {
     "data": {
      "text/markdown": [
       "* 2019-08-09T18:59:54Z [~~Trapani109~~](https://en.wikipedia.org/wiki/User%3ATrapani109) ([contribs](https://en.wikipedia.org/wiki/Special%3AContribs%2FTrapani109)) created page [~~User:Trapani109~~](https://en.wikipedia.org/wiki/User%3ATrapani109)) (Created page with '[https://garagedoorrepairwestvalleycityutah.com/ garagedoorrepairwestvalleycityutah.com]   King Garage Door Repair West Valley City Utah is the leading garage do...') ([log](https://en.wikipedia.org/wiki/Special%3ALog%2Fcreate%2FTrapani109%29))"
      ]
     },
     "metadata": {},
     "output_type": "display_data"
    },
    {
     "data": {
      "text/markdown": [
       "* 2019-08-09T20:21:55Z [~~Vanen01729~~](https://en.wikipedia.org/wiki/User%3AVanen01729) ([contribs](https://en.wikipedia.org/wiki/Special%3AContribs%2FVanen01729)) created page [~~User:Vanen01729~~](https://en.wikipedia.org/wiki/User%3AVanen01729)) (Created page with '[https://garagedoorrepairroyutah.com/ website]   King Garage Door Repair Roy UT is the leading garage door company that answers to all your issues such as garage...') ([log](https://en.wikipedia.org/wiki/Special%3ALog%2Fcreate%2FVanen01729%29))"
      ]
     },
     "metadata": {},
     "output_type": "display_data"
    },
    {
     "data": {
      "text/markdown": [
       "* 2019-08-09T20:34:30Z [~~Yash12300~~](https://en.wikipedia.org/wiki/User%3AYash12300) ([contribs](https://en.wikipedia.org/wiki/Special%3AContribs%2FYash12300)) created page [User:Yash12300](https://en.wikipedia.org/wiki/User%3AYash12300)) (Created page with '[https://www.google.com/search?q=kandarparora&client=ms-android-xiaomi&tbm=isch&prmd=mvin&source=lnms&sa=X&ved=0ahUKEwjH4vjZ0PbjAhUPbn0KHZiDBgkQ_AUIFCgD&biw=393&...') ([log](https://en.wikipedia.org/wiki/Special%3ALog%2Fcreate%2FYash12300%29))"
      ]
     },
     "metadata": {},
     "output_type": "display_data"
    },
    {
     "data": {
      "text/markdown": [
       "* 2019-08-10T02:02:24Z [Pojasingh594](https://en.wikipedia.org/wiki/User%3APojasingh594) ([contribs](https://en.wikipedia.org/wiki/Special%3AContribs%2FPojasingh594)) created page [~~User:Pojasingh594~~](https://en.wikipedia.org/wiki/User%3APojasingh594)) (Created page with '[https://www.satyamevgroups.com/ Buy Commercial Properties in Patna] | 3 BHK Flats for Sale in Patna without recreational facilities is a waste of money. Nowaday...') ([log](https://en.wikipedia.org/wiki/Special%3ALog%2Fcreate%2FPojasingh594%29))"
      ]
     },
     "metadata": {},
     "output_type": "display_data"
    },
    {
     "data": {
      "text/markdown": [
       "* 2019-08-10T08:21:34Z [Omengineering](https://en.wikipedia.org/wiki/User%3AOmengineering) ([contribs](https://en.wikipedia.org/wiki/Special%3AContribs%2FOmengineering)) created page [~~User:Omengineering~~](https://en.wikipedia.org/wiki/User%3AOmengineering)) (Created page with '[https://omengineering.co/ Om Engineering] Leading Manufacturer Of The Mixer & Blenders Like Ribbon Blender Manufacturer, Ribbon Mixer, Ribbon Blender, Double Co...') ([log](https://en.wikipedia.org/wiki/Special%3ALog%2Fcreate%2FOmengineering%29))"
      ]
     },
     "metadata": {},
     "output_type": "display_data"
    },
    {
     "data": {
      "text/markdown": [
       "* 2019-08-10T10:46:15Z [~~Peak42510x~~](https://en.wikipedia.org/wiki/User%3APeak42510x) ([contribs](https://en.wikipedia.org/wiki/Special%3AContribs%2FPeak42510x)) created page [~~User:Peak42510x~~](https://en.wikipedia.org/wiki/User%3APeak42510x)) (Created page with '[https://garagedoorrepairamericanforkutah.com/ visit website] King Garage Door Repair American Fork UT may be the leading garage door company that answers to any...') ([log](https://en.wikipedia.org/wiki/Special%3ALog%2Fcreate%2FPeak42510x%29))"
      ]
     },
     "metadata": {},
     "output_type": "display_data"
    },
    {
     "data": {
      "text/markdown": [
       "* 2019-08-10T12:45:23Z [Adrian452x](https://en.wikipedia.org/wiki/User%3AAdrian452x) ([contribs](https://en.wikipedia.org/wiki/Special%3AContribs%2FAdrian452x)) created page [~~User:Adrian452x~~](https://en.wikipedia.org/wiki/User%3AAdrian452x)) (Created page with '[https://garagedoorrepairfarmingtonutah.com/ homepage] King Garage Door Repair Farmington UT is the leading garage door company that answers to all or any your p...') ([log](https://en.wikipedia.org/wiki/Special%3ALog%2Fcreate%2FAdrian452x%29))"
      ]
     },
     "metadata": {},
     "output_type": "display_data"
    },
    {
     "data": {
      "text/markdown": [
       "* 2019-08-10T14:42:44Z [PriceGrill](https://en.wikipedia.org/wiki/User%3APriceGrill) ([contribs](https://en.wikipedia.org/wiki/Special%3AContribs%2FPriceGrill)) created page [~~User:PriceGrill/sandbox~~](https://en.wikipedia.org/wiki/User%3APriceGrill%2Fsandbox)) (Created page with '[https://pricegrill.com '''Pricegrill'''.com] is an all-in-one Price Comparison website which empowers users with maximum information about the products to provi...') ([log](https://en.wikipedia.org/wiki/Special%3ALog%2Fcreate%2FPriceGrill%29))"
      ]
     },
     "metadata": {},
     "output_type": "display_data"
    },
    {
     "data": {
      "text/markdown": [
       "* 2019-08-10T15:18:24Z [Guj Talks](https://en.wikipedia.org/wiki/User%3AGuj_Talks) ([contribs](https://en.wikipedia.org/wiki/Special%3AContribs%2FGuj_Talks)) created page [~~User:Guj Talks~~](https://en.wikipedia.org/wiki/User%3AGuj_Talks)) (Created page with '[http://gujtalks.com Gujtalks] [[Category:Social media]] [[Category:Social media Application]] [[Category:Social media app]] [[Category:Service provider]] Cate...') ([log](https://en.wikipedia.org/wiki/Special%3ALog%2Fcreate%2FGuj_Talks%29))"
      ]
     },
     "metadata": {},
     "output_type": "display_data"
    },
    {
     "data": {
      "text/markdown": [
       "* 2019-08-10T19:38:41Z [BuyTripadvisor](https://en.wikipedia.org/wiki/User%3ABuyTripadvisor) ([contribs](https://en.wikipedia.org/wiki/Special%3AContribs%2FBuyTripadvisor)) created page [~~User:BuyTripadvisor~~](https://en.wikipedia.org/wiki/User%3ABuyTripadvisor)) (Created page with '[https://buytripadvisor.com/ '''BuyTripadvisor''']  ″World Wide Service″   About '''[https://buytripadvisor.com/ BuyTripadvisor]'''  BuyTripadvisor is a repu...') ([log](https://en.wikipedia.org/wiki/Special%3ALog%2Fcreate%2FBuyTripadvisor%29))"
      ]
     },
     "metadata": {},
     "output_type": "display_data"
    },
    {
     "data": {
      "text/markdown": [
       "* 2019-08-11T08:31:34Z [Smart sports media](https://en.wikipedia.org/wiki/User%3ASmart_sports_media) ([contribs](https://en.wikipedia.org/wiki/Special%3AContribs%2FSmart_sports_media)) created page [~~User:Smart sports media~~](https://en.wikipedia.org/wiki/User%3ASmart_sports_media)) (Created page with '[https://smartsportsmedia.com/ Smart Sports Media], established in the year 2017, are one of the leading and trusted organizations of this industry, engaged in a...') ([log](https://en.wikipedia.org/wiki/Special%3ALog%2Fcreate%2FSmart_sports_media%29))"
      ]
     },
     "metadata": {},
     "output_type": "display_data"
    },
    {
     "data": {
      "text/markdown": [
       "* 2019-08-11T13:01:12Z [Simplicityuniforms](https://en.wikipedia.org/wiki/User%3ASimplicityuniforms) ([contribs](https://en.wikipedia.org/wiki/Special%3AContribs%2FSimplicityuniforms)) created page [~~User:Simplicityuniforms~~](https://en.wikipedia.org/wiki/User%3ASimplicityuniforms)) (Created page with '[http://www.simplicityuniforms.com Simplicity Uniforms], Established in 2015, is a leading supplier of uniforms across industries including Aviation, Hospitality...') ([log](https://en.wikipedia.org/wiki/Special%3ALog%2Fcreate%2FSimplicityuniforms%29))"
      ]
     },
     "metadata": {},
     "output_type": "display_data"
    },
    {
     "data": {
      "text/markdown": [
       "* 2019-08-11T17:35:56Z [MYFERNIO](https://en.wikipedia.org/wiki/User%3AMYFERNIO) ([contribs](https://en.wikipedia.org/wiki/Special%3AContribs%2FMYFERNIO)) created page [~~User:MYFERNIO/sandbox~~](https://en.wikipedia.org/wiki/User%3AMYFERNIO%2Fsandbox)) (Created page with '[http://www.myfernio.com www.myfernio.com]{{User sandbox}} <!-- EDIT BELOW THIS LINE --> Myfernio is an e-commerce company based in Kolkata, India. Founded by Sa...') ([log](https://en.wikipedia.org/wiki/Special%3ALog%2Fcreate%2FMYFERNIO%29))"
      ]
     },
     "metadata": {},
     "output_type": "display_data"
    },
    {
     "data": {
      "text/markdown": [
       "* 2019-08-12T09:51:14Z [Gocityad](https://en.wikipedia.org/wiki/User%3AGocityad) ([contribs](https://en.wikipedia.org/wiki/Special%3AContribs%2FGocityad)) created page [~~User:Gocityad~~](https://en.wikipedia.org/wiki/User%3AGocityad)) (Created page with '[https://gocitylandingpage.azurewebsites.net/ GoCityAd] helps business persons to increase there Brand Marketing, Get Better Connectivity with there local custom...') ([log](https://en.wikipedia.org/wiki/Special%3ALog%2Fcreate%2FGocityad%29))"
      ]
     },
     "metadata": {},
     "output_type": "display_data"
    },
    {
     "data": {
      "text/markdown": [
       "* 2019-08-13T06:06:35Z [~~Shivaraj77270~~](https://en.wikipedia.org/wiki/User%3AShivaraj77270) ([contribs](https://en.wikipedia.org/wiki/Special%3AContribs%2FShivaraj77270)) created page [~~User:Shivaraj77270/sandbox~~](https://en.wikipedia.org/wiki/User%3AShivaraj77270%2Fsandbox)) (Created page with '[https://www.clickhubli.com]{{User sandbox}} <!-- EDIT BELOW THIS LINE --> '''[https://www.clickhubli.com Clickhubli.com]''' is the first ecommerce portal in the...') ([log](https://en.wikipedia.org/wiki/Special%3ALog%2Fcreate%2FShivaraj77270%29))"
      ]
     },
     "metadata": {},
     "output_type": "display_data"
    },
    {
     "data": {
      "text/markdown": [
       "* 2019-08-13T06:40:52Z [~~Atulsingh arjun~~](https://en.wikipedia.org/wiki/User%3AAtulsingh_arjun) ([contribs](https://en.wikipedia.org/wiki/Special%3AContribs%2FAtulsingh_arjun)) created page [User:Atulsingh arjun](https://en.wikipedia.org/wiki/User%3AAtulsingh_arjun)) (Created page with '[https://parnavfoundation.co.i] Atul singh is also known as Arjun ,he is a social worker ,entrepreneur ,engineer and nominated for national youth icon 2019 award...') ([log](https://en.wikipedia.org/wiki/Special%3ALog%2Fcreate%2FAtulsingh_arjun%29))"
      ]
     },
     "metadata": {},
     "output_type": "display_data"
    },
    {
     "data": {
      "text/markdown": [
       "* 2019-08-13T10:25:02Z [~~Aictkolkata~~](https://en.wikipedia.org/wiki/User%3AAictkolkata) ([contribs](https://en.wikipedia.org/wiki/Special%3AContribs%2FAictkolkata)) created page [~~User:Aictkolkata~~](https://en.wikipedia.org/wiki/User%3AAictkolkata)) (Created page with '[http://www.aictkolkata.com '''AICT KOLKATA''']  >> Who we are ?  -> AICT Pvt.Ltd. is a Software Consulting and Development company in Kolkata, West Bengal, Indi...') ([log](https://en.wikipedia.org/wiki/Special%3ALog%2Fcreate%2FAictkolkata%29))"
      ]
     },
     "metadata": {},
     "output_type": "display_data"
    },
    {
     "data": {
      "text/markdown": [
       "* 2019-08-14T02:08:18Z [~~AndrewTPCampbell~~](https://en.wikipedia.org/wiki/User%3AAndrewTPCampbell) ([contribs](https://en.wikipedia.org/wiki/Special%3AContribs%2FAndrewTPCampbell)) created page [User:AndrewTPCampbell](https://en.wikipedia.org/wiki/User%3AAndrewTPCampbell)) (Created page with '[https://www.cs.dartmouth.edu/~campbell/ Andrew T. Campbell] is the Albert Bradley 1915 Third Century Professor in Computer Science at Dartmouth College where he...') ([log](https://en.wikipedia.org/wiki/Special%3ALog%2Fcreate%2FAndrewTPCampbell%29))"
      ]
     },
     "metadata": {},
     "output_type": "display_data"
    },
    {
     "data": {
      "text/markdown": [
       "* 2019-08-14T05:55:00Z [~~Bhagirath Vala123~~](https://en.wikipedia.org/wiki/User%3ABhagirath_Vala123) ([contribs](https://en.wikipedia.org/wiki/Special%3AContribs%2FBhagirath_Vala123)) created page [~~User:Bhagirath Vala123~~](https://en.wikipedia.org/wiki/User%3ABhagirath_Vala123)) (Created page with '[http://www.thesuryansh.com/ The Suryansh] Provides LIVE updates: Top Stories News on Business, India, World, Politics, Entertainment, Facts, and Sports News') ([log](https://en.wikipedia.org/wiki/Special%3ALog%2Fcreate%2FBhagirath_Vala123%29))"
      ]
     },
     "metadata": {},
     "output_type": "display_data"
    },
    {
     "data": {
      "text/markdown": [
       "* 2019-08-14T10:37:44Z [~~Zmiany Solarne~~](https://en.wikipedia.org/wiki/User%3AZmiany_Solarne) ([contribs](https://en.wikipedia.org/wiki/Special%3AContribs%2FZmiany_Solarne)) created page [User:Zmiany Solarne](https://en.wikipedia.org/wiki/User%3AZmiany_Solarne)) (Created page with '[https://pl.wikipedia.org/wiki/Wikipedysta:Zmiany_Solarne My account on plwiki]') ([log](https://en.wikipedia.org/wiki/Special%3ALog%2Fcreate%2FZmiany_Solarne%29))"
      ]
     },
     "metadata": {},
     "output_type": "display_data"
    },
    {
     "data": {
      "text/markdown": [
       "* 2019-08-14T11:12:22Z [GetGo Logistics](https://en.wikipedia.org/wiki/User%3AGetGo_Logistics) ([contribs](https://en.wikipedia.org/wiki/Special%3AContribs%2FGetGo_Logistics)) created page [~~User:GetGo Logistics~~](https://en.wikipedia.org/wiki/User%3AGetGo_Logistics)) (Created page with '[http://www.getgologistics.com GetGo Logistics]s one of the largest providers of transportation and logistics services in India. It operates pan-India, with appr...') ([log](https://en.wikipedia.org/wiki/Special%3ALog%2Fcreate%2FGetGo_Logistics%29))"
      ]
     },
     "metadata": {},
     "output_type": "display_data"
    },
    {
     "data": {
      "text/markdown": [
       "* 2019-08-14T13:07:28Z [~~Herbertvwright~~](https://en.wikipedia.org/wiki/User%3AHerbertvwright) ([contribs](https://en.wikipedia.org/wiki/Special%3AContribs%2FHerbertvwright)) created page [~~User:Herbertvwright~~](https://en.wikipedia.org/wiki/User%3AHerbertvwright)) (Created page with '[https://www.lost-identification.com '''Best fake id website''']  DISCREET SHIPPING  All orders are shipped discreetly from within the United States via USPS Fir...') ([log](https://en.wikipedia.org/wiki/Special%3ALog%2Fcreate%2FHerbertvwright%29))"
      ]
     },
     "metadata": {},
     "output_type": "display_data"
    },
    {
     "data": {
      "text/markdown": [
       "* 2019-08-14T16:57:18Z [~~MuraliKD~~](https://en.wikipedia.org/wiki/User%3AMuraliKD) ([contribs](https://en.wikipedia.org/wiki/Special%3AContribs%2FMuraliKD)) created page [User:MuraliKD](https://en.wikipedia.org/wiki/User%3AMuraliKD)) (Created page with '[http://www.LinkedIn.com/in/AgileEntrepreneur Murali Krishna Devarakonda]  Born in India, he was called Murali by his parents and friends, but is now known by hi...') ([log](https://en.wikipedia.org/wiki/Special%3ALog%2Fcreate%2FMuraliKD%29))"
      ]
     },
     "metadata": {},
     "output_type": "display_data"
    },
    {
     "data": {
      "text/markdown": [
       "* 2019-08-14T23:33:15Z [LawHero](https://en.wikipedia.org/wiki/User%3ALawHero) ([contribs](https://en.wikipedia.org/wiki/Special%3AContribs%2FLawHero)) created page [~~User:2605:8D80:680:5D31:9184:2FF0:9BD4:F539/sandbox~~](https://en.wikipedia.org/wiki/User%3A2605%3A8D80%3A680%3A5D31%3A9184%3A2FF0%3A9BD4%3AF539%2Fsandbox)) (Created page with '[http://www.lawhero.ca LawHero] is a web application that connects people who need legal advice,  with lawyers for a virtual consultation at affordable prices....') ([log](https://en.wikipedia.org/wiki/Special%3ALog%2Fcreate%2FLawHero%29))"
      ]
     },
     "metadata": {},
     "output_type": "display_data"
    },
    {
     "data": {
      "text/markdown": [
       "* 2019-08-15T20:17:43Z [RRRCreative](https://en.wikipedia.org/wiki/User%3ARRRCreative) ([contribs](https://en.wikipedia.org/wiki/Special%3AContribs%2FRRRCreative)) created page [~~User:RRRCreative/sandbox/RRR Creative~~](https://en.wikipedia.org/wiki/User%3ARRRCreative%2Fsandbox%2FRRR_Creative)) (Created page with '[https://rrrcreative.com/ RRR Creative] (Triple R) is a boutique creative agency based in [[New York City]] founded February 2018 by Ryan and Sam Ratelle. RRR Cr...') ([log](https://en.wikipedia.org/wiki/Special%3ALog%2Fcreate%2FRRRCreative%29))"
      ]
     },
     "metadata": {},
     "output_type": "display_data"
    },
    {
     "data": {
      "text/markdown": [
       "* 2019-08-15T22:39:42Z [Bodypaintband](https://en.wikipedia.org/wiki/User%3ABodypaintband) ([contribs](https://en.wikipedia.org/wiki/Special%3AContribs%2FBodypaintband)) created page [User:Bodypaintband/sandbox](https://en.wikipedia.org/wiki/User%3ABodypaintband%2Fsandbox)) (Created page with '[https://www.facebook.com/BodyPaintBand/ Body Paint] is a band Comprised of 4 extremely delicate souls. They all met on a long voyage In the Mediterranean Sea ab...') ([log](https://en.wikipedia.org/wiki/Special%3ALog%2Fcreate%2FBodypaintband%29))"
      ]
     },
     "metadata": {},
     "output_type": "display_data"
    },
    {
     "data": {
      "text/markdown": [
       "* 2019-08-16T06:59:41Z [~~Pinoyhd~~](https://en.wikipedia.org/wiki/User%3APinoyhd) ([contribs](https://en.wikipedia.org/wiki/Special%3AContribs%2FPinoyhd)) created page [User:Pinoyhd/sandbox](https://en.wikipedia.org/wiki/User%3APinoyhd%2Fsandbox)) (Created page with '[https://pinoyhd.su Pinoy Lambingan] [https://pinoyhd.su Pinoy Channel] [https://pinoyhd.su Pinoy Tambayan] [https://pinoyhd.su Pinoy Tv Replay] [https://pinoyhd...') ([log](https://en.wikipedia.org/wiki/Special%3ALog%2Fcreate%2FPinoyhd%29))"
      ]
     },
     "metadata": {},
     "output_type": "display_data"
    },
    {
     "data": {
      "text/markdown": [
       "* 2019-08-16T10:13:44Z [~~Sharpe248x~~](https://en.wikipedia.org/wiki/User%3ASharpe248x) ([contribs](https://en.wikipedia.org/wiki/Special%3AContribs%2FSharpe248x)) created page [~~User:Sharpe248x~~](https://en.wikipedia.org/wiki/User%3ASharpe248x)) (Created page with '[https://www.sunkissedkate.com/ Short & Long Term Installment Loans Online]') ([log](https://en.wikipedia.org/wiki/Special%3ALog%2Fcreate%2FSharpe248x%29))"
      ]
     },
     "metadata": {},
     "output_type": "display_data"
    },
    {
     "data": {
      "text/markdown": [
       "* 2019-08-16T15:52:11Z [Tech Trick BD](https://en.wikipedia.org/wiki/User%3ATech_Trick_BD) ([contribs](https://en.wikipedia.org/wiki/Special%3AContribs%2FTech_Trick_BD)) created page [~~User:Tech Trick BD~~](https://en.wikipedia.org/wiki/User%3ATech_Trick_BD)) (Created page with '[https://techtrickbd.com Tech Trick BD]') ([log](https://en.wikipedia.org/wiki/Special%3ALog%2Fcreate%2FTech_Trick_BD%29))"
      ]
     },
     "metadata": {},
     "output_type": "display_data"
    },
    {
     "data": {
      "text/markdown": [
       "* 2019-08-17T06:52:12Z [~~Luckysingh2019~~](https://en.wikipedia.org/wiki/User%3ALuckysingh2019) ([contribs](https://en.wikipedia.org/wiki/Special%3AContribs%2FLuckysingh2019)) created page [~~User:Luckysingh2019/sandbox~~](https://en.wikipedia.org/wiki/User%3ALuckysingh2019%2Fsandbox)) (Created page with '[https://www.naukrichacha.com/ Naukrichacha.com] is an Indian Govt. job portal operating in India and founded in August 2016. Naukrichacha.com was founded by Ind...') ([log](https://en.wikipedia.org/wiki/Special%3ALog%2Fcreate%2FLuckysingh2019%29))"
      ]
     },
     "metadata": {},
     "output_type": "display_data"
    },
    {
     "data": {
      "text/markdown": [
       "* 2019-08-17T23:44:26Z [~~Sroses33829~~](https://en.wikipedia.org/wiki/User%3ASroses33829) ([contribs](https://en.wikipedia.org/wiki/Special%3AContribs%2FSroses33829)) created page [~~User:Sroses33829~~](https://en.wikipedia.org/wiki/User%3ASroses33829)) (Created page with '[https://mtpolice.org 안전놀이터]') ([log](https://en.wikipedia.org/wiki/Special%3ALog%2Fcreate%2FSroses33829%29))"
      ]
     },
     "metadata": {},
     "output_type": "display_data"
    },
    {
     "data": {
      "text/markdown": [
       "* 2019-08-18T08:22:23Z [Kazakhnmu](https://en.wikipedia.org/wiki/User%3AKazakhnmu) ([contribs](https://en.wikipedia.org/wiki/Special%3AContribs%2FKazakhnmu)) created page [~~User:Kazakhnmu~~](https://en.wikipedia.org/wiki/User%3AKazakhnmu)) (Created page with '[http://kazakhnmu.com/ Kazakh] National Medical University is no.1 medical institute for MBBS in Almaty, Kazakhstan. We provide all sorts of career solutions to...') ([log](https://en.wikipedia.org/wiki/Special%3ALog%2Fcreate%2FKazakhnmu%29))"
      ]
     },
     "metadata": {},
     "output_type": "display_data"
    },
    {
     "data": {
      "text/markdown": [
       "* 2019-08-18T09:19:29Z [~~Shivamkr18474~~](https://en.wikipedia.org/wiki/User%3AShivamkr18474) ([contribs](https://en.wikipedia.org/wiki/Special%3AContribs%2FShivamkr18474)) created page [User:Shivamkr18474](https://en.wikipedia.org/wiki/User%3AShivamkr18474)) (Created page with '[https://appscreator1122.blogspot.com/]Hii Weakpedia Users   This is Shivam Kumar. Welcomes You<ref>{{Cite web|url=https://appscreator1122.blogspot.com/|title=Ap...') ([log](https://en.wikipedia.org/wiki/Special%3ALog%2Fcreate%2FShivamkr18474%29))"
      ]
     },
     "metadata": {},
     "output_type": "display_data"
    },
    {
     "data": {
      "text/markdown": [
       "* 2019-08-18T13:58:40Z [~~Issaclomedia~~](https://en.wikipedia.org/wiki/User%3AIssaclomedia) ([contribs](https://en.wikipedia.org/wiki/Special%3AContribs%2FIssaclomedia)) created page [User:Issaclomedia](https://en.wikipedia.org/wiki/User%3AIssaclomedia)) (Created page with '[http://%5B%5BFile:Oluwashola%20Subair.jpg|thumb|Actress%5D%5D [[File:Oluwashola Subair.jpg|thumb|Actress<nowiki>]]</nowiki>] [http://%5B%5BFile:Shollycutie.jpg|...') ([log](https://en.wikipedia.org/wiki/Special%3ALog%2Fcreate%2FIssaclomedia%29))"
      ]
     },
     "metadata": {},
     "output_type": "display_data"
    },
    {
     "data": {
      "text/markdown": [
       "* 2019-08-18T18:53:55Z [~~Spatricias33830~~](https://en.wikipedia.org/wiki/User%3ASpatricias33830) ([contribs](https://en.wikipedia.org/wiki/Special%3AContribs%2FSpatricias33830)) created page [~~User:Spatricias33830~~](https://en.wikipedia.org/wiki/User%3ASpatricias33830)) (Created page with '[https://www.bookmaker-toto.com/ 토토사이트 추천]') ([log](https://en.wikipedia.org/wiki/Special%3ALog%2Fcreate%2FSpatricias33830%29))"
      ]
     },
     "metadata": {},
     "output_type": "display_data"
    },
    {
     "data": {
      "text/markdown": [
       "* 2019-08-18T23:19:48Z [Formuland](https://en.wikipedia.org/wiki/User%3AFormuland) ([contribs](https://en.wikipedia.org/wiki/Special%3AContribs%2FFormuland)) created page [~~User:Formuland~~](https://en.wikipedia.org/wiki/User%3AFormuland)) (Created page with '[https://www.formuland.com/ Formuland] is a company established in 2014. Formuland is committed to the highest level of customer satisfaction possible and provid...') ([log](https://en.wikipedia.org/wiki/Special%3ALog%2Fcreate%2FFormuland%29))"
      ]
     },
     "metadata": {},
     "output_type": "display_data"
    },
    {
     "data": {
      "text/markdown": [
       "* 2019-08-19T02:02:47Z [~~Scarolinas33831~~](https://en.wikipedia.org/wiki/User%3AScarolinas33831) ([contribs](https://en.wikipedia.org/wiki/Special%3AContribs%2FScarolinas33831)) created page [User:Scarolinas33831](https://en.wikipedia.org/wiki/User%3AScarolinas33831)) (Created page with '[http://arusbola.com/ pasaran bola]') ([log](https://en.wikipedia.org/wiki/Special%3ALog%2Fcreate%2FScarolinas33831%29))"
      ]
     },
     "metadata": {},
     "output_type": "display_data"
    },
    {
     "data": {
      "text/markdown": [
       "* 2019-08-19T14:52:49Z [~~Shatties33832~~](https://en.wikipedia.org/wiki/User%3AShatties33832) ([contribs](https://en.wikipedia.org/wiki/Special%3AContribs%2FShatties33832)) created page [~~User:Shatties33832~~](https://en.wikipedia.org/wiki/User%3AShatties33832)) (Created page with '[https://lunchbox.io olo]') ([log](https://en.wikipedia.org/wiki/Special%3ALog%2Fcreate%2FShatties33832%29))"
      ]
     },
     "metadata": {},
     "output_type": "display_data"
    },
    {
     "data": {
      "text/markdown": [
       "* 2019-08-19T16:57:06Z [Placementdoor](https://en.wikipedia.org/wiki/User%3APlacementdoor) ([contribs](https://en.wikipedia.org/wiki/Special%3AContribs%2FPlacementdoor)) created page [~~User:Placementdoor/sandbox~~](https://en.wikipedia.org/wiki/User%3APlacementdoor%2Fsandbox)) (Created page with '[https://www.placementdoor.com Placementdoor.com] is a recruitment website Operating in India . It is one of the Leading Job Site in India with a vision to provi...') ([log](https://en.wikipedia.org/wiki/Special%3ALog%2Fcreate%2FPlacementdoor%29))"
      ]
     },
     "metadata": {},
     "output_type": "display_data"
    },
    {
     "data": {
      "text/markdown": [
       "* 2019-08-20T03:21:34Z [Canhrau](https://en.wikipedia.org/wiki/User%3ACanhrau) ([contribs](https://en.wikipedia.org/wiki/Special%3AContribs%2FCanhrau)) created page [~~User:Canhrau~~](https://en.wikipedia.org/wiki/User%3ACanhrau)) (Created page with '[https://canhrau.com Canhrau.com] là một trang Web/Blog cá nhân chia sẻ kiến thức từ cơ bản để chuyên sâu trong lĩnh vực công nghệ má...') ([log](https://en.wikipedia.org/wiki/Special%3ALog%2Fcreate%2FCanhrau%29))"
      ]
     },
     "metadata": {},
     "output_type": "display_data"
    },
    {
     "data": {
      "text/markdown": [
       "* 2019-08-20T08:22:39Z [BITLABDIGITALSOLUTIONS](https://en.wikipedia.org/wiki/User%3ABITLABDIGITALSOLUTIONS) ([contribs](https://en.wikipedia.org/wiki/Special%3AContribs%2FBITLABDIGITALSOLUTIONS)) created page [~~User:BITLABDIGITALSOLUTIONS~~](https://en.wikipedia.org/wiki/User%3ABITLABDIGITALSOLUTIONS)) (Created page with '[http://www.bitlab.co.za www.bitlab.co.za]   == BITLAB (PTY) LTD ==  == MODULAR DIGITAL SOLUTIONS ==  === DESIGN | HOSTING | MARKETING ===  Bitlab is a digital s...') ([log](https://en.wikipedia.org/wiki/Special%3ALog%2Fcreate%2FBITLABDIGITALSOLUTIONS%29))"
      ]
     },
     "metadata": {},
     "output_type": "display_data"
    },
    {
     "data": {
      "text/markdown": [
       "* 2019-08-20T17:44:45Z [~~Stalter48x~~](https://en.wikipedia.org/wiki/User%3AStalter48x) ([contribs](https://en.wikipedia.org/wiki/Special%3AContribs%2FStalter48x)) created page [~~User:Stalter48x~~](https://en.wikipedia.org/wiki/User%3AStalter48x)) (Created page with '[https://www.shoppingsini.com/ubat-kuat-berry-jaga berry jaga]') ([log](https://en.wikipedia.org/wiki/Special%3ALog%2Fcreate%2FStalter48x%29))"
      ]
     },
     "metadata": {},
     "output_type": "display_data"
    },
    {
     "data": {
      "text/markdown": [
       "* 2019-08-21T10:57:08Z [Meridianenter](https://en.wikipedia.org/wiki/User%3AMeridianenter) ([contribs](https://en.wikipedia.org/wiki/Special%3AContribs%2FMeridianenter)) created page [~~User:Meridianenter~~](https://en.wikipedia.org/wiki/User%3AMeridianenter)) (Created page with '[http://www.meridiansolutions.in Meridian Enterprises] does staffing solutions for the corporate firms. Meridian Enterprises is provide complete staffing solutio...') ([log](https://en.wikipedia.org/wiki/Special%3ALog%2Fcreate%2FMeridianenter%29))"
      ]
     },
     "metadata": {},
     "output_type": "display_data"
    },
    {
     "data": {
      "text/markdown": [
       "* 2019-08-21T12:44:02Z [Blogograph](https://en.wikipedia.org/wiki/User%3ABlogograph) ([contribs](https://en.wikipedia.org/wiki/Special%3AContribs%2FBlogograph)) created page [~~User:Blogograph~~](https://en.wikipedia.org/wiki/User%3ABlogograph)) (Created page with '[http://www.blogograph.com Blogograph] is a blog website, where you can find all kinds of a useful articles. [http://www.blogograph.com Blogograph] never publish...') ([log](https://en.wikipedia.org/wiki/Special%3ALog%2Fcreate%2FBlogograph%29))"
      ]
     },
     "metadata": {},
     "output_type": "display_data"
    },
    {
     "data": {
      "text/markdown": [
       "* 2019-08-21T14:38:20Z [~~Sunnyakter~~](https://en.wikipedia.org/wiki/User%3ASunnyakter) ([contribs](https://en.wikipedia.org/wiki/Special%3AContribs%2FSunnyakter)) created page [~~User:Sunnyakter~~](https://en.wikipedia.org/wiki/User%3ASunnyakter)) (Created page with '[https://www.harberlondon.com/collections/iphone?fbclid=IwAR0wNwUTtGZzz9TZstTe9sVc4kGNw03uoitILeIQEur0LrUcc25lLa4QYEo IPhone Leather Cases]  Our Phone Sleeves fi...') ([log](https://en.wikipedia.org/wiki/Special%3ALog%2Fcreate%2FSunnyakter%29))"
      ]
     },
     "metadata": {},
     "output_type": "display_data"
    },
    {
     "data": {
      "text/markdown": [
       "* 2019-08-22T05:24:40Z [Shathashrunga](https://en.wikipedia.org/wiki/User%3AShathashrunga) ([contribs](https://en.wikipedia.org/wiki/Special%3AContribs%2FShathashrunga)) created page [User:Shathashrunga](https://en.wikipedia.org/wiki/User%3AShathashrunga)) (Created page with '[https://www.youtube.com/channel/UCtQoXdj2r17Z829NnrQq11g?view_as=subscriber Shathashrunga News]') ([log](https://en.wikipedia.org/wiki/Special%3ALog%2Fcreate%2FShathashrunga%29))"
      ]
     },
     "metadata": {},
     "output_type": "display_data"
    },
    {
     "data": {
      "text/markdown": [
       "* 2019-08-22T07:18:12Z [Austin019x](https://en.wikipedia.org/wiki/User%3AAustin019x) ([contribs](https://en.wikipedia.org/wiki/Special%3AContribs%2FAustin019x)) created page [~~User:Austin019x~~](https://en.wikipedia.org/wiki/User%3AAustin019x)) (Created page with '[https://www.whitestores.co.uk whitestores.co.uk] Bring Home High-Quality Rattan Furniture That Lasts Longer, Browse through the wide collection of high-quality...') ([log](https://en.wikipedia.org/wiki/Special%3ALog%2Fcreate%2FAustin019x%29))"
      ]
     },
     "metadata": {},
     "output_type": "display_data"
    },
    {
     "data": {
      "text/markdown": [
       "* 2019-08-22T11:38:55Z [Dios Enterprises](https://en.wikipedia.org/wiki/User%3ADios_Enterprises) ([contribs](https://en.wikipedia.org/wiki/Special%3AContribs%2FDios_Enterprises)) created page [~~User:Dios Enterprises~~](https://en.wikipedia.org/wiki/User%3ADios_Enterprises)) (Created page with '[https://dioskart.com Dios Enterprises] was founded and started in 2012. Dios Enterprises is an established manufacturer, exporter and supplier of a vast range o...') ([log](https://en.wikipedia.org/wiki/Special%3ALog%2Fcreate%2FDios_Enterprises%29))"
      ]
     },
     "metadata": {},
     "output_type": "display_data"
    },
    {
     "data": {
      "text/markdown": [
       "* 2019-08-22T20:41:34Z [~~Kgosche~~](https://en.wikipedia.org/wiki/User%3AKgosche) ([contribs](https://en.wikipedia.org/wiki/Special%3AContribs%2FKgosche)) created page [User:Kgosche/sandbox](https://en.wikipedia.org/wiki/User%3AKgosche%2Fsandbox)) (Created page with '[http://www.partek.com Partek Incorporated] is a privately-owned bioinformatic software company based in St. Louis, Missouri and incorporated in 1993. Users of P...') ([log](https://en.wikipedia.org/wiki/Special%3ALog%2Fcreate%2FKgosche%29))"
      ]
     },
     "metadata": {},
     "output_type": "display_data"
    },
    {
     "data": {
      "text/markdown": [
       "* 2019-08-22T22:40:44Z [~~Zoeythederpypotato~~](https://en.wikipedia.org/wiki/User%3AZoeythederpypotato) ([contribs](https://en.wikipedia.org/wiki/Special%3AContribs%2FZoeythederpypotato)) created page [~~User:23.113.148.149/sandbox~~](https://en.wikipedia.org/wiki/User%3A23.113.148.149%2Fsandbox)) (Created page with '[https://www.youtube.com/channel/UCLSBkaDA2Q6lxZbLRRp7doA zoey the derpy potato] is a you tuber who creates random content and who ins awesome is every way she l...') ([log](https://en.wikipedia.org/wiki/Special%3ALog%2Fcreate%2FZoeythederpypotato%29))"
      ]
     },
     "metadata": {},
     "output_type": "display_data"
    },
    {
     "data": {
      "text/markdown": [
       "* 2019-08-23T04:13:50Z [~~TheSohailAkhtar~~](https://en.wikipedia.org/wiki/User%3ATheSohailAkhtar) ([contribs](https://en.wikipedia.org/wiki/Special%3AContribs%2FTheSohailAkhtar)) created page [User:TheSohailAkhtar](https://en.wikipedia.org/wiki/User%3ATheSohailAkhtar)) (Created page with '[http://www.fb.com/asohailofficials Sohail Akhtar] is a indian software developer and he is a owner of Team  [[File:Sohail Akhtar.jpg|thumb]] [http://www.fb.com/...') ([log](https://en.wikipedia.org/wiki/Special%3ALog%2Fcreate%2FTheSohailAkhtar%29))"
      ]
     },
     "metadata": {},
     "output_type": "display_data"
    },
    {
     "data": {
      "text/markdown": [
       "* 2019-08-23T05:38:17Z [Onskyglobals](https://en.wikipedia.org/wiki/User%3AOnskyglobals) ([contribs](https://en.wikipedia.org/wiki/Special%3AContribs%2FOnskyglobals)) created page [~~User:Onskyglobals~~](https://en.wikipedia.org/wiki/User%3AOnskyglobals)) (Created page with '[http://www.onskyglobal.com/about-us.php On Sky Global] Inc. is a leading and eminent education service provider based in the United States of America and compri...') ([log](https://en.wikipedia.org/wiki/Special%3ALog%2Fcreate%2FOnskyglobals%29))"
      ]
     },
     "metadata": {},
     "output_type": "display_data"
    },
    {
     "data": {
      "text/markdown": [
       "* 2019-08-23T12:04:58Z [~~Kaiser180x~~](https://en.wikipedia.org/wiki/User%3AKaiser180x) ([contribs](https://en.wikipedia.org/wiki/Special%3AContribs%2FKaiser180x)) created page [~~User:Kaiser180x~~](https://en.wikipedia.org/wiki/User%3AKaiser180x)) (Created page with '[https://www.whitestores.co.uk whitestores.co.uk] Designer Rattan Furniture Cube Sets for a Comfortable Outdoor Seating, Do you wish to maximize the overall func...') ([log](https://en.wikipedia.org/wiki/Special%3ALog%2Fcreate%2FKaiser180x%29))"
      ]
     },
     "metadata": {},
     "output_type": "display_data"
    },
    {
     "data": {
      "text/markdown": [
       "* 2019-08-23T13:06:58Z [~~Clark4904x~~](https://en.wikipedia.org/wiki/User%3AClark4904x) ([contribs](https://en.wikipedia.org/wiki/Special%3AContribs%2FClark4904x)) created page [~~User:Clark4904x~~](https://en.wikipedia.org/wiki/User%3AClark4904x)) (Created page with '[http://www.car-rental-egypt.com/ تاجير سيارات] Eagle Car Rental in Egypt provide the best rental prices on luxury, economy, and family rental cars wi...') ([log](https://en.wikipedia.org/wiki/Special%3ALog%2Fcreate%2FClark4904x%29))"
      ]
     },
     "metadata": {},
     "output_type": "display_data"
    },
    {
     "data": {
      "text/markdown": [
       "* 2019-08-23T13:34:55Z [Couponndiscount](https://en.wikipedia.org/wiki/User%3ACouponndiscount) ([contribs](https://en.wikipedia.org/wiki/Special%3AContribs%2FCouponndiscount)) created page [~~User:Couponndiscount~~](https://en.wikipedia.org/wiki/User%3ACouponndiscount)) (Created page with '[https://couponndiscount.com The best website for Amazon coupon discount Deals.] https://couponndiscount.com is one of the best website for Amazon coupon discoun...') ([log](https://en.wikipedia.org/wiki/Special%3ALog%2Fcreate%2FCouponndiscount%29))"
      ]
     },
     "metadata": {},
     "output_type": "display_data"
    },
    {
     "data": {
      "text/markdown": [
       "* 2019-08-24T06:10:07Z [~~Mesumitkumar228~~](https://en.wikipedia.org/wiki/User%3AMesumitkumar228) ([contribs](https://en.wikipedia.org/wiki/Special%3AContribs%2FMesumitkumar228)) created page [User:Mesumitkumar228/sandbox](https://en.wikipedia.org/wiki/User%3AMesumitkumar228%2Fsandbox)) (Created page with '[http://India India]{{User sandbox}} <!-- SUMIT KUMAR SHARMA  -->') ([log](https://en.wikipedia.org/wiki/Special%3ALog%2Fcreate%2FMesumitkumar228%29))"
      ]
     },
     "metadata": {},
     "output_type": "display_data"
    },
    {
     "data": {
      "text/markdown": [
       "* 2019-08-24T10:14:34Z [Askvider](https://en.wikipedia.org/wiki/User%3AAskvider) ([contribs](https://en.wikipedia.org/wiki/Special%3AContribs%2FAskvider)) created page [~~User:Askvider~~](https://en.wikipedia.org/wiki/User%3AAskvider)) (Created page with '[https://www.askvider.com <u>Askivider.com</u>] is the first online video classified advertising website and mobile apps for international users which first laun...') ([log](https://en.wikipedia.org/wiki/Special%3ALog%2Fcreate%2FAskvider%29))"
      ]
     },
     "metadata": {},
     "output_type": "display_data"
    },
    {
     "data": {
      "text/markdown": [
       "* 2019-08-26T06:43:05Z [Maac12345](https://en.wikipedia.org/wiki/User%3AMaac12345) ([contribs](https://en.wikipedia.org/wiki/Special%3AContribs%2FMaac12345)) created page [~~User:Maac12345~~](https://en.wikipedia.org/wiki/User%3AMaac12345)) (Created page with '[https://www.maachairtransplantbangalore.com/ Best hair transplantation clinic in bangalore]:Get advanced hair loss treatment by best Hair specialists in Bangalo...') ([log](https://en.wikipedia.org/wiki/Special%3ALog%2Fcreate%2FMaac12345%29))"
      ]
     },
     "metadata": {},
     "output_type": "display_data"
    },
    {
     "data": {
      "text/markdown": [
       "* 2019-08-26T09:21:47Z [Flyca.education](https://en.wikipedia.org/wiki/User%3AFlyca.education) ([contribs](https://en.wikipedia.org/wiki/Special%3AContribs%2FFlyca.education)) created page [~~User:Flyca.education~~](https://en.wikipedia.org/wiki/User%3AFlyca.education)) (Created page with '[http://flyca.co.in/]') ([log](https://en.wikipedia.org/wiki/Special%3ALog%2Fcreate%2FFlyca.education%29))"
      ]
     },
     "metadata": {},
     "output_type": "display_data"
    },
    {
     "data": {
      "text/markdown": [
       "* 2019-08-26T11:32:09Z [Johncarter.digi](https://en.wikipedia.org/wiki/User%3AJohncarter.digi) ([contribs](https://en.wikipedia.org/wiki/Special%3AContribs%2FJohncarter.digi)) created page [~~User:Johncarter.digi~~](https://en.wikipedia.org/wiki/User%3AJohncarter.digi)) (Created page with '[http://www.Dealmecoupon.com/ Dealmecoupon] is an online company helping online shoppers in reducing their shopping bills. It is comprised of over 20,000 brands...') ([log](https://en.wikipedia.org/wiki/Special%3ALog%2Fcreate%2FJohncarter.digi%29))"
      ]
     },
     "metadata": {},
     "output_type": "display_data"
    },
    {
     "data": {
      "text/markdown": [
       "* 2019-08-26T18:01:23Z [Marty0491x](https://en.wikipedia.org/wiki/User%3AMarty0491x) ([contribs](https://en.wikipedia.org/wiki/Special%3AContribs%2FMarty0491x)) created page [~~User:Marty0491x~~](https://en.wikipedia.org/wiki/User%3AMarty0491x)) (Created page with '[https://mtcatcher.com/ 토토사이트]') ([log](https://en.wikipedia.org/wiki/Special%3ALog%2Fcreate%2FMarty0491x%29))"
      ]
     },
     "metadata": {},
     "output_type": "display_data"
    },
    {
     "data": {
      "text/markdown": [
       "* 2019-08-27T01:13:05Z [~~Mexicanwilddog~~](https://en.wikipedia.org/wiki/User%3AMexicanwilddog) ([contribs](https://en.wikipedia.org/wiki/Special%3AContribs%2FMexicanwilddog)) created page [User:Mexicanwilddog](https://en.wikipedia.org/wiki/User%3AMexicanwilddog)) (Created page with '[https://twitter.com/mexicanwilddog twitter!]') ([log](https://en.wikipedia.org/wiki/Special%3ALog%2Fcreate%2FMexicanwilddog%29))"
      ]
     },
     "metadata": {},
     "output_type": "display_data"
    },
    {
     "data": {
      "text/markdown": [
       "* 2019-08-27T01:29:50Z [Commit Works](https://en.wikipedia.org/wiki/User%3ACommit_Works) ([contribs](https://en.wikipedia.org/wiki/Special%3AContribs%2FCommit_Works)) created page [~~User:Commit Works~~](https://en.wikipedia.org/wiki/User%3ACommit_Works)) (Created page with '[http://www.commit.works Commit Works] (formerly known as Fewzion) makes powerfully simple software that helps blue collar workforces manage their frontline proc...') ([log](https://en.wikipedia.org/wiki/Special%3ALog%2Fcreate%2FCommit_Works%29))"
      ]
     },
     "metadata": {},
     "output_type": "display_data"
    },
    {
     "data": {
      "text/markdown": [
       "* 2019-08-27T10:00:53Z [Putin on the awesome internet](https://en.wikipedia.org/wiki/User%3APutin_on_the_awesome_internet) ([contribs](https://en.wikipedia.org/wiki/Special%3AContribs%2FPutin_on_the_awesome_internet)) created page [~~User:Putin on the awesome internet/sandbox~~](https://en.wikipedia.org/wiki/User%3APutin_on_the_awesome_internet%2Fsandbox)) (Created page with '[https://www.youtube.com/channel/UCaqQfypVvsw73iF_Nfa904Q My youtube channel   Putin on the awesome internet]{{User sandbox}}[https://steamcommunity.com/profiles...') ([log](https://en.wikipedia.org/wiki/Special%3ALog%2Fcreate%2FPutin_on_the_awesome_internet%29))"
      ]
     },
     "metadata": {},
     "output_type": "display_data"
    },
    {
     "data": {
      "text/markdown": [
       "* 2019-08-27T10:45:22Z [Bspinfosolution](https://en.wikipedia.org/wiki/User%3ABspinfosolution) ([contribs](https://en.wikipedia.org/wiki/Special%3AContribs%2FBspinfosolution)) created page [~~User:Bspinfosolution/sandbox~~](https://en.wikipedia.org/wiki/User%3ABspinfosolution%2Fsandbox)) (Created page with '[http://www.businesssoftwareproviders.com '''Business Software Providers''']  [http://www.businesssoftwareproviders.com ''Business Software Providers''] is an In...') ([log](https://en.wikipedia.org/wiki/Special%3ALog%2Fcreate%2FBspinfosolution%29))"
      ]
     },
     "metadata": {},
     "output_type": "display_data"
    },
    {
     "data": {
      "text/markdown": [
       "* 2019-08-27T11:09:00Z [CIOReview Enterprise Technology Magazine](https://en.wikipedia.org/wiki/User%3ACIOReview_Enterprise_Technology_Magazine) ([contribs](https://en.wikipedia.org/wiki/Special%3AContribs%2FCIOReview_Enterprise_Technology_Magazine)) created page [~~User:CIOReview Enterprise Technology Magazine~~](https://en.wikipedia.org/wiki/User%3ACIOReview_Enterprise_Technology_Magazine)) (Created page with '[https://www.cioreview.com/ CIOReview] is a leading technology magazine that is at the forefront of guiding enterprises through the continuously varying business...') ([log](https://en.wikipedia.org/wiki/Special%3ALog%2Fcreate%2FCIOReview_Enterprise_Technology_Magazine%29))"
      ]
     },
     "metadata": {},
     "output_type": "display_data"
    },
    {
     "data": {
      "text/markdown": [
       "* 2019-08-28T07:37:26Z [Chrisjenlifestyles](https://en.wikipedia.org/wiki/User%3AChrisjenlifestyles) ([contribs](https://en.wikipedia.org/wiki/Special%3AContribs%2FChrisjenlifestyles)) created page [~~User:Chrisjenlifestyles~~](https://en.wikipedia.org/wiki/User%3AChrisjenlifestyles)) (Created page with '[https://chrisjenlifestyle.com/ Chrisjen Lifestyle] is a brand in the United States that understands the consumer’s everyday needs and provides the best qualit...') ([log](https://en.wikipedia.org/wiki/Special%3ALog%2Fcreate%2FChrisjenlifestyles%29))"
      ]
     },
     "metadata": {},
     "output_type": "display_data"
    },
    {
     "data": {
      "text/markdown": [
       "* 2019-08-28T09:30:49Z [Elink.io](https://en.wikipedia.org/wiki/User%3AElink.io) ([contribs](https://en.wikipedia.org/wiki/Special%3AContribs%2FElink.io)) created page [~~User:Elink.io~~](https://en.wikipedia.org/wiki/User%3AElink.io)) (Created page with '[https://elink.io Elink] is a content curation and bookmarking application for the web. elink is the fastest way to create email newsletters, fast website conten...') ([log](https://en.wikipedia.org/wiki/Special%3ALog%2Fcreate%2FElink.io%29))"
      ]
     },
     "metadata": {},
     "output_type": "display_data"
    },
    {
     "data": {
      "text/markdown": [
       "* 2019-08-28T11:18:16Z [~~Ashutupe~~](https://en.wikipedia.org/wiki/User%3AAshutupe) ([contribs](https://en.wikipedia.org/wiki/Special%3AContribs%2FAshutupe)) created page [User:Ashutupe/sandbox](https://en.wikipedia.org/wiki/User%3AAshutupe%2Fsandbox)) (Created page with '[https://marketinforesearch.com/ MarketInfoResearch.com]￼￼￼is an innovative platform for online market research reports & database. MIR offers a range of l...') ([log](https://en.wikipedia.org/wiki/Special%3ALog%2Fcreate%2FAshutupe%29))"
      ]
     },
     "metadata": {},
     "output_type": "display_data"
    },
    {
     "data": {
      "text/markdown": [
       "* 2019-08-29T07:06:09Z [THE ENGINEER'S CLASS, Dhanbad](https://en.wikipedia.org/wiki/User%3ATHE_ENGINEER%27S_CLASS%2C_Dhanbad) ([contribs](https://en.wikipedia.org/wiki/Special%3AContribs%2FTHE_ENGINEER%27S_CLASS%2C_Dhanbad)) created page [~~User:THE ENGINEER'S CLASS, Dhanbad~~](https://en.wikipedia.org/wiki/User%3ATHE_ENGINEER%27S_CLASS%2C_Dhanbad)) (Created page with '[http://www.theengineersclass.com THE ENGINEER'S CLASS, Dhanbad] is a Coaching Institute in Dhanbad for the preparations of IIT-JEE (Mains & Advanced) & Pre-Medi...') ([log](https://en.wikipedia.org/wiki/Special%3ALog%2Fcreate%2FTHE_ENGINEER%27S_CLASS%2C_Dhanbad%29))"
      ]
     },
     "metadata": {},
     "output_type": "display_data"
    },
    {
     "data": {
      "text/markdown": [
       "* 2019-08-30T07:55:07Z [Fenfuro1](https://en.wikipedia.org/wiki/User%3AFenfuro1) ([contribs](https://en.wikipedia.org/wiki/Special%3AContribs%2FFenfuro1)) created page [~~User:Fenfuro1~~](https://en.wikipedia.org/wiki/User%3AFenfuro1)) (Created page with '[http://www.fenfuro.com FENFURO™] is a proprietary product derived from Fenugreek seeds (Trigonella Foenum Graecum) by an innovative process. It is a group of...') ([log](https://en.wikipedia.org/wiki/Special%3ALog%2Fcreate%2FFenfuro1%29))"
      ]
     },
     "metadata": {},
     "output_type": "display_data"
    },
    {
     "data": {
      "text/markdown": [
       "* 2019-08-31T17:21:34Z [Corey1942x](https://en.wikipedia.org/wiki/User%3ACorey1942x) ([contribs](https://en.wikipedia.org/wiki/Special%3AContribs%2FCorey1942x)) created page [~~User:Corey1942x~~](https://en.wikipedia.org/wiki/User%3ACorey1942x)) (Created page with '[https://www.linshangtech.com/product/LS220_EN.html automotive paint meter]') ([log](https://en.wikipedia.org/wiki/Special%3ALog%2Fcreate%2FCorey1942x%29))"
      ]
     },
     "metadata": {},
     "output_type": "display_data"
    },
    {
     "data": {
      "text/markdown": [
       "* 2019-08-31T19:26:34Z [Chavez142x](https://en.wikipedia.org/wiki/User%3AChavez142x) ([contribs](https://en.wikipedia.org/wiki/Special%3AContribs%2FChavez142x)) created page [~~User:Chavez142x~~](https://en.wikipedia.org/wiki/User%3AChavez142x)) (Created page with '[http://www.allhealth.biz My Health] The health info') ([log](https://en.wikipedia.org/wiki/Special%3ALog%2Fcreate%2FChavez142x%29))"
      ]
     },
     "metadata": {},
     "output_type": "display_data"
    },
    {
     "data": {
      "text/markdown": [
       "* 2019-08-31T22:24:58Z [~~Sauce1274~~](https://en.wikipedia.org/wiki/User%3ASauce1274) ([contribs](https://en.wikipedia.org/wiki/Special%3AContribs%2FSauce1274)) created page [User:Sauce1274/sandbox](https://en.wikipedia.org/wiki/User%3ASauce1274%2Fsandbox)) (Created page with '[https://gobearcats.com/roster.aspx?rp_id=8935 I play football for the University of Cincinnati ]{{User sandbox}} <!-- EDIT BELOW THIS LINE -->') ([log](https://en.wikipedia.org/wiki/Special%3ALog%2Fcreate%2FSauce1274%29))"
      ]
     },
     "metadata": {},
     "output_type": "display_data"
    },
    {
     "data": {
      "text/markdown": [
       "* 2019-09-01T07:58:27Z [Jioskycom](https://en.wikipedia.org/wiki/User%3AJioskycom) ([contribs](https://en.wikipedia.org/wiki/Special%3AContribs%2FJioskycom)) created page [~~User:Jioskycom~~](https://en.wikipedia.org/wiki/User%3AJioskycom)) (Created page with '[https://www.jiosky.com '''JIOSKY''']    '''Make-Money Ways,  E-Books, Web Hosting, Software, Real-Estate, Trending Products, Referral Program, Insurance Policy,...') ([log](https://en.wikipedia.org/wiki/Special%3ALog%2Fcreate%2FJioskycom%29))"
      ]
     },
     "metadata": {},
     "output_type": "display_data"
    },
    {
     "data": {
      "text/markdown": [
       "* 2019-09-01T08:52:45Z [Hepiqqdomino99](https://en.wikipedia.org/wiki/User%3AHepiqqdomino99) ([contribs](https://en.wikipedia.org/wiki/Special%3AContribs%2FHepiqqdomino99)) created page [~~User:Hepiqqdomino99~~](https://en.wikipedia.org/wiki/User%3AHepiqqdomino99)) (Created page with '[https://hepi-qq.club/ '''Situs PokerQQ Online Agen Judi Domino99 BandarQQ Terpercaya''''''''']    [https://hepi-qq.club/ HepiQQ] Situs PokerQQ dan Domino99 Onli...') ([log](https://en.wikipedia.org/wiki/Special%3ALog%2Fcreate%2FHepiqqdomino99%29))"
      ]
     },
     "metadata": {},
     "output_type": "display_data"
    },
    {
     "data": {
      "text/markdown": [
       "* 2019-09-02T01:37:05Z [~~Vlenex~~](https://en.wikipedia.org/wiki/User%3AVlenex) ([contribs](https://en.wikipedia.org/wiki/Special%3AContribs%2FVlenex)) created page [User:Vlenex](https://en.wikipedia.org/wiki/User%3AVlenex)) (Created page with '[https://www.youtube.com/channel/UCyhtEp-8iTp2EdL_pTecc3w my channel]') ([log](https://en.wikipedia.org/wiki/Special%3ALog%2Fcreate%2FVlenex%29))"
      ]
     },
     "metadata": {},
     "output_type": "display_data"
    },
    {
     "data": {
      "text/markdown": [
       "* 2019-09-02T06:53:24Z [Thelproacademy](https://en.wikipedia.org/wiki/User%3AThelproacademy) ([contribs](https://en.wikipedia.org/wiki/Special%3AContribs%2FThelproacademy)) created page [~~User:Thelproacademy~~](https://en.wikipedia.org/wiki/User%3AThelproacademy)) (Created page with '[https://lpro.online LPRO] is an education change management company. We strive to work with top executives from educational institutes, industry and government...') ([log](https://en.wikipedia.org/wiki/Special%3ALog%2Fcreate%2FThelproacademy%29))"
      ]
     },
     "metadata": {},
     "output_type": "display_data"
    }
   ],
   "source": [
    "main()"
   ]
  },
  {
   "cell_type": "markdown",
   "metadata": {},
   "source": [
    "### Licensing\n",
    "Copyright 2019 AntiCompositeNumber\n",
    "\n",
    "Licensed under the Apache License, Version 2.0 (the \"License\"); you may not use this file except in compliance with the License. You may obtain a copy of the License at\n",
    "\n",
    "  http://www.apache.org/licenses/LICENSE-2.0\n",
    "\n",
    "Unless required by applicable law or agreed to in writing, software distributed under the License is distributed on an \"AS IS\" BASIS, WITHOUT WARRANTIES OR CONDITIONS OF ANY KIND, either express or implied. See the License for the specific language governing permissions and limitations under the License.\n",
    "\n",
    "### To fork:\n",
    "1. Open the [raw page](?format=raw) and save it to your computer\n",
    "2. Go to your [PAWS control panel](https://paws.wmflabs.org/paws/hub) and sign in using OAUTH\n",
    "3. Click Upload and upload the file from step 1\n",
    "4. To run, open the notebook and click Cell > Run All"
   ]
  }
 ],
 "metadata": {
  "kernelspec": {
   "display_name": "Python 3",
   "language": "python",
   "name": "python3"
  },
  "language_info": {
   "codemirror_mode": {
    "name": "ipython",
    "version": 3
   },
   "file_extension": ".py",
   "mimetype": "text/x-python",
   "name": "python",
   "nbconvert_exporter": "python",
   "pygments_lexer": "ipython3",
   "version": "3.6.7"
  }
 },
 "nbformat": 4,
 "nbformat_minor": 2
}

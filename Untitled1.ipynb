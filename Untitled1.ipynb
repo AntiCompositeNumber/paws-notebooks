{
 "cells": [
  {
   "cell_type": "code",
   "execution_count": 5,
   "metadata": {},
   "outputs": [
    {
     "name": "stdout",
     "output_type": "stream",
     "text": [
      "|id1=Q4818527|type1=point|marker1=skiing|title1={{label|Q4818527}}\n",
      "|id2=Q22096738|type2=point|marker2=skiing|title2={{label|Q22096738}}\n",
      "|id3=Q7996297|type3=point|marker3=skiing|title3={{label|Q7996297}}\n",
      "|id4=Q6541882|type4=point|marker4=skiing|title4={{label|Q6541882}}\n",
      "|id5=Q5188973|type5=point|marker5=skiing|title5={{label|Q5188973}}\n",
      "|id6=Q5944484|type6=point|marker6=skiing|title6={{label|Q5944484}}\n",
      "|id7=Q15229111|type7=point|marker7=skiing|title7={{label|Q15229111}}\n",
      "|id8=Q617699|type8=point|marker8=skiing|title8={{label|Q617699}}\n",
      "|id9=Q8001022|type9=point|marker9=skiing|title9={{label|Q8001022}}\n",
      "|id10=Q4947991|type10=point|marker10=skiing|title10={{label|Q4947991}}\n",
      "|id11=Q5752020|type11=point|marker11=skiing|title11={{label|Q5752020}}\n",
      "|id12=Q14716653|type12=point|marker12=skiing|title12={{label|Q14716653}}\n",
      "|id13=Q7132127|type13=point|marker13=skiing|title13={{label|Q7132127}}\n",
      "|id14=Q7548208|type14=point|marker14=skiing|title14={{label|Q7548208}}\n",
      "|id15=Q4735528|type15=point|marker15=skiing|title15={{label|Q4735528}}\n"
     ]
    }
   ],
   "source": [
    "ids = ['Q4818527','Q22096738','Q7996297','Q6541882',\n",
    "       'Q5188973','Q5944484','Q15229111','Q617699',\n",
    "       'Q8001022','Q4947991','Q5752020','Q14716653',\n",
    "       'Q7132127','Q7548208','Q4735528']\n",
    "\n",
    "marker = 'skiing'\n",
    "\n",
    "i = 0\n",
    "for qid in ids:\n",
    "    i += 1\n",
    "    print(f'|id{i}={qid}|type{i}=point|marker{i}={marker}|title{i}={{{{label|{qid}}}}}')\n"
   ]
  }
 ],
 "metadata": {
  "kernelspec": {
   "display_name": "Python 3",
   "language": "python",
   "name": "python3"
  },
  "language_info": {
   "codemirror_mode": {
    "name": "ipython",
    "version": 3
   },
   "file_extension": ".py",
   "mimetype": "text/x-python",
   "name": "python",
   "nbconvert_exporter": "python",
   "pygments_lexer": "ipython3",
   "version": "3.6.7"
  }
 },
 "nbformat": 4,
 "nbformat_minor": 2
}

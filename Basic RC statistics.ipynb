{
 "cells": [
  {
   "cell_type": "markdown",
   "metadata": {},
   "source": [
    "# Basic Recent Changes Statistics\n",
    "An IRC discussion reminded me of an oft-quoted statistic that \"Most vandalism comes from IPs but most IPs are not vandals.\" I discovered that this statistic comes from [a study](https://en.wikipedia.org/wiki/User:Opabinia_regalis/Article_statistics#Recent_mainspace_changes_survey) of 250 mainspace edits in February 2007. I wanted to try the experiment again, but with the aid of modern technology. This script will grab an arbitrary number of recent changes and send them to [ORES](https://www.mediawiki.org/wiki/ORES) for scoring. Using the scores from ORES, the revisions are categorized as constructive (predicted to be good faith and not damaging) or nonconstructive. Contributions outside of mainspace, bot edits, page creations, and other logged items that show up in the recent changes feed are ignored. \n",
    "\n",
    "You can see the code below or you can [skip to the bottom](#Output) to see the results."
   ]
  },
  {
   "cell_type": "markdown",
   "metadata": {},
   "source": [
    "### Setup and configuration"
   ]
  },
  {
   "cell_type": "code",
   "execution_count": 1,
   "metadata": {
    "slideshow": {
     "slide_type": "slide"
    }
   },
   "outputs": [],
   "source": [
    "import pywikibot\n",
    "import requests \n",
    "import platform\n",
    "import IPython.display\n",
    "\n",
    "site = pywikibot.Site('en', 'wikipedia')\n",
    "revs = 250"
   ]
  },
  {
   "cell_type": "markdown",
   "metadata": {},
   "source": [
    "### Grab `revs` recent changes with revid, username, and user type"
   ]
  },
  {
   "cell_type": "code",
   "execution_count": 2,
   "metadata": {},
   "outputs": [
    {
     "name": "stdout",
     "output_type": "stream",
     "text": [
      "Done\n"
     ]
    }
   ],
   "source": [
    "rc = site.recentchanges(namespaces=0, total=revs, changetype='edit', bot=False)\n",
    "\n",
    "data = {}\n",
    "\n",
    "for change in rc:\n",
    "    revid = change['revid']\n",
    "    user = change['user']\n",
    "    timestamp = change['timestamp']\n",
    "    \n",
    "    userPage = pywikibot.page.User(site, user)\n",
    "    userType = userPage.isRegistered()\n",
    "    \n",
    "    data[revid] = {'revid': revid, 'user': user, 'registered': userType, 'timestamp': timestamp}\n",
    "    \n",
    "print('Done')"
   ]
  },
  {
   "cell_type": "markdown",
   "metadata": {},
   "source": [
    "### Query ORES for classification\n",
    "To be nice, queries are sent with up to 50 revisions each."
   ]
  },
  {
   "cell_type": "code",
   "execution_count": 3,
   "metadata": {},
   "outputs": [
    {
     "name": "stdout",
     "output_type": "stream",
     "text": [
      "Done\n"
     ]
    }
   ],
   "source": [
    "i = 0\n",
    "ids = list(data)\n",
    "db = site.dbName()\n",
    "headers = {'user-agent': f'AntiCompositeBot/Basic RC statistics on PAWS (en:User:AntiCompositeNumber) Requests/{requests.__version__} Python/{platform.python_version()}'}\n",
    "\n",
    "while i < len(ids):\n",
    "    s = ids[i:i+50]\n",
    "    i += 50\n",
    "    url = f'https://ores.wmflabs.org/v3/scores/{db}/?models=damaging|goodfaith&revids='\n",
    "    for j in s:\n",
    "        url = url + str(j) + \"|\"\n",
    "    url = url[:-1]\n",
    "    r = requests.get(url, headers=headers)\n",
    "    r.raise_for_status()\n",
    "    ores = r.json()\n",
    "    scores = ores[db]['scores']\n",
    "    for rev, models in scores.items():\n",
    "        data[int(rev)]['damaging'] = models['damaging']['score']['prediction']\n",
    "        data[int(rev)]['goodfaith'] = models['goodfaith']['score']['prediction']\n",
    "        \n",
    "print('Done')"
   ]
  },
  {
   "cell_type": "markdown",
   "metadata": {},
   "source": [
    "### Make some basic calculations"
   ]
  },
  {
   "cell_type": "code",
   "execution_count": 4,
   "metadata": {},
   "outputs": [
    {
     "name": "stdout",
     "output_type": "stream",
     "text": [
      "Done\n"
     ]
    }
   ],
   "source": [
    "regCons = 0\n",
    "regDest = 0\n",
    "ipCons = 0\n",
    "ipDest = 0\n",
    "ts = []\n",
    "\n",
    "#Sort revisions \n",
    "for rev, info in data.items():\n",
    "    if info['damaging'] == False and info['goodfaith'] == True:\n",
    "        if info['registered'] == True:\n",
    "            regCons += 1\n",
    "        else:\n",
    "            ipCons += 1\n",
    "    elif info['registered'] == True:\n",
    "        regDest += 1\n",
    "    else:\n",
    "        ipDest += 1\n",
    "    ts.append(info['timestamp'])\n",
    "\n",
    "#Calculate totals and percentages\n",
    "regTot = regCons + regDest \n",
    "ipTot = ipCons + ipDest\n",
    "\n",
    "regTotP = regTot / revs * 100\n",
    "ipTotP = ipTot / revs * 100\n",
    "\n",
    "regConsP = regCons / regTot * 100\n",
    "regDestP = regDest / regTot * 100\n",
    "regConsTP = regCons / revs * 100\n",
    "regDestTP = regDest / revs * 100\n",
    "\n",
    "ipConsP = ipCons / ipTot * 100\n",
    "ipDestP = ipDest / ipTot * 100\n",
    "ipConsTP = ipCons / revs * 100\n",
    "ipDestTP = ipDest / revs * 100\n",
    "\n",
    "\n",
    "#Calculate revision timestamp range\n",
    "tss = sorted(ts)\n",
    "tsStart = tss[0]\n",
    "tsEnd = tss[-1]\n",
    "\n",
    "print('Done')"
   ]
  },
  {
   "cell_type": "markdown",
   "metadata": {},
   "source": [
    "## Output"
   ]
  },
  {
   "cell_type": "code",
   "execution_count": 5,
   "metadata": {
    "scrolled": true
   },
   "outputs": [
    {
     "data": {
      "text/markdown": [
       "Out of 250 revisions scanned between 2019-08-14T18:25:13Z and 2019-08-14T18:27:55Z:\n",
       "- Registered editors made 174 contributions (69.6%)\n",
       "  - 168 were likely constructive (96.6% of registered contributions, 67.2% of all contributions)\n",
       "  - 6 were likely nonconstructive (3.45% of registered contributions, 2.4% of all contributions)\n",
       "- Unregistered editors made 76 contributions (30.4%)\n",
       "  - 53 were likely constructive (69.7% of unregistered contributions, 21.2% of all contributions)\n",
       "  - 23 were likely nonconstructive (30.3% of unregistered contributions, 9.2% of all contributions)\n"
      ]
     },
     "metadata": {},
     "output_type": "display_data"
    }
   ],
   "source": [
    "IPython.display.display_markdown(f'''\\\n",
    "Out of {revs} revisions scanned between {tsStart} and {tsEnd}:\n",
    "- Registered editors made {regTot} contributions ({regTotP:.3}%)\n",
    "  - {regCons} were likely constructive ({regConsP:.3}% of registered contributions, {regConsTP:.3}% of all contributions)\n",
    "  - {regDest} were likely nonconstructive ({regDestP:.3}% of registered contributions, {regDestTP:.3}% of all contributions)\n",
    "- Unregistered editors made {ipTot} contributions ({ipTotP:.3}%)\n",
    "  - {ipCons} were likely constructive ({ipConsP:.3}% of unregistered contributions, {ipConsTP:.3}% of all contributions)\n",
    "  - {ipDest} were likely nonconstructive ({ipDestP:.3}% of unregistered contributions, {ipDestTP:.3}% of all contributions)\n",
    "''',raw=True)"
   ]
  },
  {
   "cell_type": "markdown",
   "metadata": {},
   "source": [
    "### Licensing\n",
    "Copyright 2019 AntiCompositeNumber\n",
    "\n",
    "Licensed under the Apache License, Version 2.0 (the \"License\"); you may not use this file except in compliance with the License. You may obtain a copy of the License at\n",
    "\n",
    "  http://www.apache.org/licenses/LICENSE-2.0\n",
    "\n",
    "Unless required by applicable law or agreed to in writing, software distributed under the License is distributed on an \"AS IS\" BASIS, WITHOUT WARRANTIES OR CONDITIONS OF ANY KIND, either express or implied. See the License for the specific language governing permissions and limitations under the License."
   ]
  }
 ],
 "metadata": {
  "kernelspec": {
   "display_name": "Python 3",
   "language": "python",
   "name": "python3"
  },
  "language_info": {
   "codemirror_mode": {
    "name": "ipython",
    "version": 3
   },
   "file_extension": ".py",
   "mimetype": "text/x-python",
   "name": "python",
   "nbconvert_exporter": "python",
   "pygments_lexer": "ipython3",
   "version": "3.6.7"
  }
 },
 "nbformat": 4,
 "nbformat_minor": 2
}
